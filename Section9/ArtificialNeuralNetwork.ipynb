{
 "cells": [
  {
   "cell_type": "markdown",
   "metadata": {},
   "source": [
    "# What are artificial neural networks\n",
    "\n",
    "- ANNs are information processing models inspired by the human brain.\n",
    "- The brain has over 100 billion neyrons communicating through electrical and chemical signals. \n",
    "- Neurons communicate with each other and help us see, think, and generate ideas.\n",
    "Human brain learnins by creatin connections amonth these neurons. \n",
    "- Humans learn from experience.\n",
    "- ANNs will learn in the same fashion, by showing several training samples over and over again 'epochs'. \n",
    "\n",
    "## ANNs Advantages\n",
    "\n",
    "- ANNs are capable of modeling relationships between a set of inputs and outputs. \n",
    "- \"A neural network with sufficient number of neurons can approximately model any continuous function with an acceptavle degree of accuracy.\n",
    "- Excellent generalization capability. \n",
    "\n",
    "## ANNs limitation\n",
    "- Black-box structure\n",
    "- Even though trained network can operate properly, the internal structure of the network often has no physical significance and very difficult to understand. \n",
    "\n",
    "## Plan of atack\n",
    "\n",
    "Single neuron(Perceptron) - > Two neuron model -> Multi-layer perception network -> Deep networks \n",
    "\n",
    "# Single Neuron Perceptron Model\n",
    "\n",
    "## Neuron mathematical model\n",
    "\n",
    "- The neuron collects signals from input channels names dendtrites, processes information in its nucleus, and then generates an output in a long thin branch called the axon. \n",
    "- Weights shows the strength of the particular node. \n",
    "- Inputs/Independendt variables -> Neuron -> Output(Binary, Categorical, Continious)\n",
    "- Bias allows to shift the activation function curve up or down.\n",
    "- Number of adjustable parameters = 4(3 weights and 1 bias)\n",
    "- Activation function F\n",
    "\n"
   ]
  }
 ],
 "metadata": {
  "language_info": {
   "name": "python"
  }
 },
 "nbformat": 4,
 "nbformat_minor": 2
}
