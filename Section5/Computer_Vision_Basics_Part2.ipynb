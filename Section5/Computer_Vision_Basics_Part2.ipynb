{
 "cells": [
  {
   "cell_type": "markdown",
   "id": "d801b386",
   "metadata": {},
   "source": [
    "# Image Transformation: Rotations, translation and Resizing\n",
    "\n",
    "- Image trasnformations are used to correct distortions and/or change perspectives.\n",
    "- Affine transformation preserves parallelism(Between lines).\n",
    "- Projective(Non-affine) transformation does not preserve parallelism, length, and angle.\n",
    "\n",
    "## Rotation\n",
    "\n",
    "- OpenCV can perform rotations by using a rotarion matrix M.\n",
    "- A rotation matrix is a matrix used to perform rotarion in Euclidean space.\n",
    "- It rotates points in the xy-plane counter clockwise through an angle 'o' teta about the origin.\n",
    "\n",
    "1. M_rotation = getRotationMatrix2D(center, angle, scale)\n",
    "2. rotated_image = cv2.warpAffine(image, M_rotation, (width, height))\n",
    "\n",
    "## Translation\n",
    "\n",
    "- Translation is the shifting of object´s location in X and/or Y direction.\n",
    "- OpenCV uses translational matrix T as follows:\n",
    "\n",
    "T = [[1, 0, Tx],\n",
    "    [0, 1, Ty]]\n",
    "    \n",
    "1. Translational_Matrix = np.float32([[1, 0, Tx], [0, 1, Ty]])\n",
    "2. translated_image = cv2.warpAffine(image, Translational_Matrix, (width, height))\n",
    " \n",
    "## Resizing\n",
    "\n",
    "- Resizing using OpenCV can be performed using cv2.resize()\n",
    "- Preferable interpolation methods are cv.INTER_AREA for shrinking and cv.INTER_CUBIC for zooming\n",
    "- By default, interpolation method used is cv.INTER_LINEAR for all resizing purposes\n",
    "\n",
    "1. resized_image = cv2.resize(image, None, fx=3, fy = 3, interpolation = cv.INTER_CUBIC)"
   ]
  },
  {
   "cell_type": "markdown",
   "id": "5fabe453",
   "metadata": {},
   "source": [
    "# Image Transformation: Perspective Transform"
   ]
  },
  {
   "cell_type": "markdown",
   "id": "121c1246",
   "metadata": {},
   "source": [
    "- Image transformation are used to correct distortions and/or change perspecives.\n",
    "- Projective transformation(Non-affine) does not preserve parallellism, length and angle.\n",
    "1. M = cv2.getPerspectiveTransform(Source_points, Destination_points)\n",
    "2. warped = cv2.warpPerspective(Image, M, (width, height))"
   ]
  },
  {
   "cell_type": "markdown",
   "id": "c757405a",
   "metadata": {},
   "source": [
    "# Image cropping dilation and erosion\n",
    "\n",
    "- *Dilation*: Means adding extra pixels to the boundaries of objects in an image. Addins pixels to the white background means increasing thickness of the letters.\n",
    "- *Erosion*: Means removing pixels at the boundaries of objects in an image. Removing pixels from the white background means increasing thickness of the letters.\n",
    "- Image dilation and erosion can be performed as follows:\n",
    "\n",
    "1. kernel = np.ones((8,8), np.uint8)\n",
    "2. image_erosion = cv2.erode(image, kernel, ierations = 1)\n",
    "3. image_dilation = cv2.dilate(image, kernel, iterations = 1)"
   ]
  },
  {
   "cell_type": "markdown",
   "id": "83fe503b",
   "metadata": {},
   "source": [
    "# Region of interest masking\n",
    "\n",
    "- Our goal is to mask the region of interest so we can focus our search efforts for the lane lines. \n"
   ]
  },
  {
   "cell_type": "markdown",
   "id": "87a9c281",
   "metadata": {},
   "source": [
    "# Hough Transform\n",
    "\n",
    "## How to represent a line ?\n",
    "\n",
    "- A line can be represented with one of the two form.\n",
    "- 'p' is the perpendicular distance from origin to the line.\n",
    "- 'o' is the angle formed by this perpendicular line and horizontal axis.\n",
    "\n",
    "## Intuition\n",
    "\n",
    "- In image space, a line is plotted as x cv .y and modeled as y = mx +b or xcos(o) + ysin(0) = p \n",
    "- In parameter space(hough), a line is repreented by a point in \"m vs. b\".\n",
    "- Each line is represented as a single point with (m, b) coordinates or (p, o) parameters.\n",
    "- The hough line transformation in openCV is a cv2.houghLines() is used to detect straight lines.\n",
    "1. lines = cv2.HoughLines(image, p accuracy, o accuracy, threshold)\n",
    "2. lines = cv2.HoughLines(image, 1, np.pi/180, 240)"
   ]
  },
  {
   "cell_type": "code",
   "execution_count": null,
   "id": "f9c88fa7",
   "metadata": {},
   "outputs": [],
   "source": []
  }
 ],
 "metadata": {
  "kernelspec": {
   "display_name": "Python 3 (ipykernel)",
   "language": "python",
   "name": "python3"
  },
  "language_info": {
   "codemirror_mode": {
    "name": "ipython",
    "version": 3
   },
   "file_extension": ".py",
   "mimetype": "text/x-python",
   "name": "python",
   "nbconvert_exporter": "python",
   "pygments_lexer": "ipython3",
   "version": "3.7.0"
  }
 },
 "nbformat": 4,
 "nbformat_minor": 5
}
