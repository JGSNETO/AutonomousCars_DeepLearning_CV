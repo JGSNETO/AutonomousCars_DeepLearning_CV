{
 "cells": [
  {
   "cell_type": "markdown",
   "id": "d801b386",
   "metadata": {},
   "source": [
    "# Image Transformation: Rotations, translation and Resizing\n",
    "\n",
    "- Image trasnformations are used to correct distortions and/or change perspectives.\n",
    "- Affine transformation preserves parallelism(Between lines).\n",
    "- Projective(Non-affine) transformation does not preserve parallelism, length, and angle.\n",
    "\n",
    "## Rotation\n",
    "\n",
    "- OpenCV can perform rotations by using a rotarion matrix M.\n",
    "- A rotation matrix is a matrix used to perform rotarion in Euclidean space.\n",
    "- It rotates points in the xy-plane counter clockwise through an angle 'o' teta about the origin.\n",
    "\n",
    "1. M_rotation = getRotationMatrix2D(center, angle, scale)\n",
    "2. rotated_image = cv2.warpAffine(image, M_rotation, (width, height))\n",
    "\n",
    "## Translation\n",
    "\n",
    "- Translation is the shifting of object´s location in X and/or Y direction.\n",
    "- OpenCV uses translational matrix T as follows:\n",
    "\n",
    "T = [[1, 0, Tx],\n",
    "    [0, 1, Ty]]\n",
    "    \n",
    "1. Translational_Matrix = np.float32([[1, 0, Tx], [0, 1, Ty]])\n",
    "2. translated_image = cv2.warpAffine(image, Translational_Matrix, (width, height))\n",
    " \n",
    "## Resizing\n",
    "\n",
    "- Resizing using OpenCV can be performed using cv2.resize()\n",
    "- Preferable interpolation methods are cv.INTER_AREA for shrinking and cv.INTER_CUBIC for zooming\n",
    "- By default, interpolation method used is cv.INTER_LINEAR for all resizing purposes\n",
    "\n",
    "1. resized_image = cv2.resize(image, None, fx=3, fy = 3, interpolation = cv.INTER_CUBIC)"
   ]
  },
  {
   "cell_type": "code",
   "execution_count": null,
   "id": "4b31ea5c",
   "metadata": {},
   "outputs": [],
   "source": []
  }
 ],
 "metadata": {
  "kernelspec": {
   "display_name": "Python 3 (ipykernel)",
   "language": "python",
   "name": "python3"
  },
  "language_info": {
   "codemirror_mode": {
    "name": "ipython",
    "version": 3
   },
   "file_extension": ".py",
   "mimetype": "text/x-python",
   "name": "python",
   "nbconvert_exporter": "python",
   "pygments_lexer": "ipython3",
   "version": "3.7.0"
  }
 },
 "nbformat": 4,
 "nbformat_minor": 5
}
