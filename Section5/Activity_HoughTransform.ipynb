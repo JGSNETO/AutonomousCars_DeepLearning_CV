{
 "cells": [
  {
   "cell_type": "code",
   "execution_count": 8,
   "id": "d866d571",
   "metadata": {},
   "outputs": [],
   "source": [
    "import cv2\n",
    "import numpy as np\n",
    "import matplotlib.pyplot as plt"
   ]
  },
  {
   "cell_type": "code",
   "execution_count": 10,
   "id": "288b4cca",
   "metadata": {},
   "outputs": [],
   "source": [
    "image_c = cv2.imread('horizontal_vertical.jpg')\n",
    "\n",
    "cv2.imshow('Given image', image_c)\n",
    "cv2.waitKey(0)\n",
    "cv2.destroyAllWindows()"
   ]
  },
  {
   "cell_type": "code",
   "execution_count": 12,
   "id": "6245e7b6",
   "metadata": {},
   "outputs": [
    {
     "data": {
      "text/plain": [
       "array([[0, 0, 0, ..., 0, 0, 0],\n",
       "       [0, 0, 0, ..., 0, 0, 0],\n",
       "       [0, 0, 0, ..., 0, 0, 0],\n",
       "       ...,\n",
       "       [0, 0, 0, ..., 0, 0, 0],\n",
       "       [0, 0, 0, ..., 0, 0, 0],\n",
       "       [0, 0, 0, ..., 0, 0, 0]], dtype=uint8)"
      ]
     },
     "execution_count": 12,
     "metadata": {},
     "output_type": "execute_result"
    }
   ],
   "source": [
    "image_g = cv2.cvtColor(image_c, cv2.COLOR_BGR2GRAY)\n",
    "image_canny = cv2.Canny(image_g, 50, 200, apertureSize = 3)\n",
    "image_canny"
   ]
  },
  {
   "cell_type": "code",
   "execution_count": 13,
   "id": "d5cec60a",
   "metadata": {},
   "outputs": [],
   "source": [
    "cv2.imshow('Canny image', image_canny)\n",
    "cv2.waitKey()\n",
    "cv2.destroyAllWindows()"
   ]
  },
  {
   "cell_type": "code",
   "execution_count": 14,
   "id": "c1a24390",
   "metadata": {},
   "outputs": [],
   "source": [
    "# rho accuracy of 1 pixel and theta accuracy of np-pi/180 (i degree)\n",
    "# threshold is number of points on line\n",
    "# try 300, 400 and 500\n",
    "lines = cv2.HoughLines(image_canny, 1, np.pi/180, 300)"
   ]
  },
  {
   "cell_type": "code",
   "execution_count": 15,
   "id": "05fa1166",
   "metadata": {},
   "outputs": [
    {
     "data": {
      "text/plain": [
       "array([[[173.       ,   1.5707964]],\n",
       "\n",
       "       [[167.       ,   1.5707964]],\n",
       "\n",
       "       [[226.       ,   0.       ]],\n",
       "\n",
       "       [[221.       ,   0.       ]]], dtype=float32)"
      ]
     },
     "execution_count": 15,
     "metadata": {},
     "output_type": "execute_result"
    }
   ],
   "source": [
    "lines"
   ]
  },
  {
   "cell_type": "code",
   "execution_count": 16,
   "id": "de8ac956",
   "metadata": {},
   "outputs": [
    {
     "data": {
      "text/plain": [
       "4"
      ]
     },
     "execution_count": 16,
     "metadata": {},
     "output_type": "execute_result"
    }
   ],
   "source": [
    "len(lines)"
   ]
  },
  {
   "cell_type": "code",
   "execution_count": 17,
   "id": "67df1e1d",
   "metadata": {},
   "outputs": [
    {
     "data": {
      "text/plain": [
       "(4, 1, 2)"
      ]
     },
     "execution_count": 17,
     "metadata": {},
     "output_type": "execute_result"
    }
   ],
   "source": [
    "lines.shape"
   ]
  },
  {
   "cell_type": "code",
   "execution_count": 18,
   "id": "388d3e09",
   "metadata": {},
   "outputs": [],
   "source": [
    "if lines is not None:\n",
    "    for i in range(0, len(lines)):\n",
    "        rho = lines[i][0][0]\n",
    "        theta = lines[i][0][1]\n",
    "        \n",
    "        x0 = rho * np.cos(theta)\n",
    "        y0 = rho * np.sin(theta)\n",
    "        \n",
    "        a = np.cos(theta)\n",
    "        b = np.sin(theta)\n",
    "        \n",
    "        x1 = int(x0 + 1000 * (-b))\n",
    "        y1 = int(y0 + 1000 * (a))\n",
    "        x2 = int(x0 - 1000 * (-b))\n",
    "        y2 = int(y0 - 1000 * (a))\n",
    "        cv2.line(image_c, (x1, y1), (x2, y2), (255, 0, 0), 2)\n",
    "\n",
    "cv2.imshow('Hough Lines', image_c)\n",
    "cv2.waitKey()\n",
    "cv2.destroyAllWindows()"
   ]
  },
  {
   "cell_type": "code",
   "execution_count": null,
   "id": "911bba2d",
   "metadata": {},
   "outputs": [],
   "source": []
  }
 ],
 "metadata": {
  "kernelspec": {
   "display_name": "Python 3 (ipykernel)",
   "language": "python",
   "name": "python3"
  },
  "language_info": {
   "codemirror_mode": {
    "name": "ipython",
    "version": 3
   },
   "file_extension": ".py",
   "mimetype": "text/x-python",
   "name": "python",
   "nbconvert_exporter": "python",
   "pygments_lexer": "ipython3",
   "version": "3.7.0"
  }
 },
 "nbformat": 4,
 "nbformat_minor": 5
}
