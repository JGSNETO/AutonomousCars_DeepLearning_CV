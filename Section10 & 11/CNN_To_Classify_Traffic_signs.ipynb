{
 "cells": [
  {
   "cell_type": "markdown",
   "id": "2ce3dde9-78d6-443d-821a-6963ae765e01",
   "metadata": {},
   "source": [
    "# Convolutional Neural Network\n",
    "\n",
    "- Pooling or down sampling layers are places after convolutional layers to reduce feature map dimensionality.\n",
    "- This improves the computational efficiency while preserving the features.\n",
    "- Pooling helps the model to generalize by avoiding overfitting. If one of the pixel is shifted, the pooled feature map will still be the same.\n",
    "- Mox pooling works by retaining the maximum feature response within a given sample size in a feature map.\n",
    "\n",
    "## Increase filters/droupout\n",
    "\n",
    "- Improve accuracy by adding more feature detectors/filters or adding a droupout.\n",
    "- Dropout refers to dropping out units in a neural network.\n",
    "- Neurons develop co-dependency amongst each other during training.\n",
    "- Dropout is a regularization technique for reducing overfitting in neural networks.\n",
    "- It enables training to occur on several architectures of the neural network."
   ]
  },
  {
   "cell_type": "code",
   "execution_count": null,
   "id": "f98f9a4c-8c14-4948-b71d-f4afd3a6c210",
   "metadata": {},
   "outputs": [],
   "source": []
  }
 ],
 "metadata": {
  "kernelspec": {
   "display_name": "Python 3 (ipykernel)",
   "language": "python",
   "name": "python3"
  },
  "language_info": {
   "codemirror_mode": {
    "name": "ipython",
    "version": 3
   },
   "file_extension": ".py",
   "mimetype": "text/x-python",
   "name": "python",
   "nbconvert_exporter": "python",
   "pygments_lexer": "ipython3",
   "version": "3.8.0"
  }
 },
 "nbformat": 4,
 "nbformat_minor": 5
}
