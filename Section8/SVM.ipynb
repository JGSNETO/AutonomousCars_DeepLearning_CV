{
 "cells": [
  {
   "cell_type": "code",
   "execution_count": null,
   "metadata": {},
   "outputs": [],
   "source": [
    "import numpy as np\n",
    "import matplotlib.pyplot as plt\n",
    "from matplotlib import _cm\n",
    "from sklearn.datasets import make_blobs\n",
    "\n",
    "n_samples = 10000\n",
    "\n",
    "# To generate our fabricated data set, we will create two blobs of randomly distributed data at two corners of the graph\n",
    "centers = [(0.9, 0.05),(0.05, 0.94)]\n",
    "X, Y = make_blobs(n_samples=n_samples, n_features=2, cluster_std=0.4, centers=centers, shuffle=False, random_state = 42)\n",
    "\n",
    "# Then filter out only the values that lit within [0, 1]:\n",
    "features = []\n",
    "labels = []\n",
    "\n"
   ]
  }
 ],
 "metadata": {
  "language_info": {
   "name": "python"
  }
 },
 "nbformat": 4,
 "nbformat_minor": 2
}
