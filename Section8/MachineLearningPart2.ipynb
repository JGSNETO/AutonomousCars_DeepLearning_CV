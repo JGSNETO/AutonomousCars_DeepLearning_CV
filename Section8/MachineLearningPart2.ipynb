{
 "cells": [
  {
   "cell_type": "markdown",
   "metadata": {},
   "source": [
    "# Bayes Theorem and Naive Bayes\n",
    "\n",
    "\\[ P(A|B) = \\frac{P(B|A) \\cdot P(A)}{P(B)} \\]\n",
    "\n",
    "Where:\n",
    "\n",
    "- \\( P(A|B) \\) is the probability of event A occurring given that B is true.\n",
    "- \\( P(B|A) \\) is the probability of event B occurring given that A is true.\n",
    "- \\( P(A) \\) is the probability of event A.\n",
    "- \\( P(B) \\) is the probability of event B.\n",
    "\n",
    "- The key insight is that the probability of something that depends on B depends very much on the base probability of B and A. People ignore this all the time. \n"
   ]
  }
 ],
 "metadata": {
  "language_info": {
   "name": "python"
  }
 },
 "nbformat": 4,
 "nbformat_minor": 2
}
