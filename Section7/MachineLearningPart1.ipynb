{
 "cells": [
  {
   "cell_type": "markdown",
   "metadata": {},
   "source": [
    "# What is machine learning ?\n",
    "\n",
    "- Machine learning systems train a model by feeding it feature data with known labels.\n",
    "- Features are the attributes used to inform your model's predictions labels are the \"correct answers\" our model wants to be able to predict on its own.\n",
    "- Once the model is built, the model will predict labels just given features data.\n",
    "- Features are independent variables labels are dependent variabels. "
   ]
  }
 ],
 "metadata": {
  "language_info": {
   "name": "python"
  }
 },
 "nbformat": 4,
 "nbformat_minor": 2
}
