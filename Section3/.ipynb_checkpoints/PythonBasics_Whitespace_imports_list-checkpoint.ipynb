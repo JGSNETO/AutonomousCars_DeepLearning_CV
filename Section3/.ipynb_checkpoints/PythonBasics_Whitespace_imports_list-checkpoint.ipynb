{
 "cells": [
  {
   "cell_type": "markdown",
   "id": "0d696803",
   "metadata": {},
   "source": [
    "# Python Basics\n",
    "\n",
    "## Whitespace\n",
    "\n",
    " - Whitespace in Python includes spaces, tabs, and newlines. It is an integral part of the syntax and can affect how code is interpreted and executed.\n",
    " - Python uses indentation to define the scope of loops, functions, classes, and conditionals. Unlike many other programming languages that use braces {} or keywords to define blocks of code, Python relies on indentation levels.\n",
    " - PEP 8 Recommendation: The Python Enhancement Proposal 8 (PEP 8) recommends using 4 spaces per indentation level.\n",
    " - Mixing Tabs and Spaces: Mixing tabs and spaces for indentation is not allowed and will result in an IndentationError.\n",
    " - Functions are defined with consistent 4-space indentation.\n",
    " - There are no extra spaces around parentheses or inside function calls.\n",
    " - Logical separation is maintained using blank lines."
   ]
  },
  {
   "cell_type": "code",
   "execution_count": 1,
   "id": "92ecf1cb",
   "metadata": {},
   "outputs": [
    {
     "name": "stdout",
     "output_type": "stream",
     "text": [
      "1 is odd\n",
      "2 is even\n",
      "3 is odd\n",
      "4 is even\n",
      "5 is odd\n",
      "6 is even\n",
      "All done.\n"
     ]
    }
   ],
   "source": [
    "listOfNumbers = [1, 2, 3, 4, 5, 6]\n",
    "\n",
    "for number in listOfNumbers:\n",
    "    if (number % 2 == 0):\n",
    "        print(number, \"is even\")\n",
    "    else:\n",
    "        print(number, \"is odd\")\n",
    "\n",
    "print(\"All done.\")"
   ]
  },
  {
   "cell_type": "markdown",
   "id": "e1feee0e",
   "metadata": {},
   "source": [
    "# Import modules\n",
    "\n",
    "In Python, modules are files containing Python code (functions, classes, variables) that you can import and use in your own programs. This allows you to organize your code into manageable sections and reuse code across different programs. \n"
   ]
  },
  {
   "cell_type": "markdown",
   "id": "04cc2876",
   "metadata": {},
   "source": [
    "## Basic Import\n",
    "\n",
    "To import a module, use the import statement followed by the module name."
   ]
  },
  {
   "cell_type": "code",
   "execution_count": null,
   "id": "9b03a45f",
   "metadata": {},
   "outputs": [],
   "source": [
    "import math"
   ]
  },
  {
   "cell_type": "markdown",
   "id": "e9a338b9",
   "metadata": {},
   "source": [
    "## Import Specific Functions or Variables\n",
    "\n",
    "You can import specific functions or variables from a module using the from ... import ... syntax."
   ]
  },
  {
   "cell_type": "code",
   "execution_count": null,
   "id": "6f16654f",
   "metadata": {},
   "outputs": [],
   "source": [
    "from math import sqrt"
   ]
  },
  {
   "cell_type": "markdown",
   "id": "8973629e",
   "metadata": {},
   "source": [
    "## import with an Alias\n",
    "\n",
    "To avoid name conflicts or for convenience, you can import a module with an alias using the as keyword."
   ]
  },
  {
   "cell_type": "code",
   "execution_count": null,
   "id": "cc883d45",
   "metadata": {},
   "outputs": [],
   "source": [
    "import numpy as np"
   ]
  },
  {
   "cell_type": "markdown",
   "id": "c9b591b2",
   "metadata": {},
   "source": [
    "## Importing All Functions and Variables\n",
    "\n",
    "To import everything from a module, use the from ... import * syntax. This is generally discouraged because it can lead to unclear code and potential conflicts with existing names."
   ]
  },
  {
   "cell_type": "code",
   "execution_count": null,
   "id": "3ca39c40",
   "metadata": {},
   "outputs": [],
   "source": [
    "from math import *\n",
    "\n",
    "print(sqrt(16))  # Output: 4.0\n",
    "print(pi)        # Output: 3.141592653589793"
   ]
  },
  {
   "cell_type": "markdown",
   "id": "c4641dae",
   "metadata": {},
   "source": [
    "## Importing from a Module in a Package\n",
    "\n",
    "Modules can be organized into packages, which are directories containing a special __init__.py file. You can import modules from a package using dot notation."
   ]
  },
  {
   "cell_type": "code",
   "execution_count": 3,
   "id": "747573e7",
   "metadata": {},
   "outputs": [
    {
     "ename": "ModuleNotFoundError",
     "evalue": "No module named 'mypackage'",
     "output_type": "error",
     "traceback": [
      "\u001b[1;31m---------------------------------------------------------------------------\u001b[0m",
      "\u001b[1;31mModuleNotFoundError\u001b[0m                       Traceback (most recent call last)",
      "\u001b[1;32m~\\AppData\\Local\\Temp\\ipykernel_16676\\2521717070.py\u001b[0m in \u001b[0;36m<module>\u001b[1;34m\u001b[0m\n\u001b[1;32m----> 1\u001b[1;33m \u001b[1;32mfrom\u001b[0m \u001b[0mmypackage\u001b[0m \u001b[1;32mimport\u001b[0m \u001b[0mmymodule\u001b[0m\u001b[1;33m\u001b[0m\u001b[0m\n\u001b[0m\u001b[0;32m      2\u001b[0m \u001b[1;33m\u001b[0m\u001b[0m\n\u001b[0;32m      3\u001b[0m \u001b[0mmymodule\u001b[0m\u001b[1;33m.\u001b[0m\u001b[0mmyfunction\u001b[0m\u001b[1;33m(\u001b[0m\u001b[1;33m)\u001b[0m\u001b[1;33m\u001b[0m\u001b[0m\n",
      "\u001b[1;31mModuleNotFoundError\u001b[0m: No module named 'mypackage'"
     ]
    }
   ],
   "source": [
    "#Do not run\n",
    "from mypackage import mymodule\n",
    "mymodule.myfunction()"
   ]
  },
  {
   "cell_type": "markdown",
   "id": "9cea2597",
   "metadata": {},
   "source": [
    "# Reloading a Module\n",
    "\n",
    "If you need to reload a module (e.g., if it has changed during runtime), use the importlib.reload() function from the importlib module."
   ]
  },
  {
   "cell_type": "code",
   "execution_count": null,
   "id": "c715b329",
   "metadata": {},
   "outputs": [],
   "source": [
    "import importlib\n",
    "import mymodule\n",
    "\n",
    "importlib.reload(mymodule)"
   ]
  },
  {
   "cell_type": "markdown",
   "id": "1a90e856",
   "metadata": {},
   "source": [
    "# List\n",
    "\n",
    "In Python, a list is a built-in data structure that allows you to store an ordered collection of items. Lists are highly versatile and can contain items of different types, including integers, strings, other lists, or even custom objects.\n",
    "\n",
    "- Creation: Use parentheses () to create a tuple, or just commas for simple cases.\n",
    "- Access: Use indexing and slicing to access elements.\n",
    "- Immutability: Tuples cannot be modified after creation.\n",
    "- Operations: Support concatenation, repetition, and membership tests.\n",
    "- Methods: Provide basic methods like count() and index().\n",
    "- Packing and Unpacking: Easily pack and unpack multiple values.\n",
    "- Nested Tuples: Tuples can contain other tuples for complex structures."
   ]
  },
  {
   "cell_type": "markdown",
   "id": "89d07f0a",
   "metadata": {},
   "source": [
    "# Creating Lists"
   ]
  },
  {
   "cell_type": "code",
   "execution_count": 2,
   "id": "2106a5a8",
   "metadata": {},
   "outputs": [],
   "source": [
    "numbers = [1, 2, 3, 4]\n",
    "fruits = [\"apple\", \"banana\", \"cherry\"]\n",
    "mixed_lists = [1, \"apple\", 3.14, True]\n",
    "empty_list = []"
   ]
  },
  {
   "cell_type": "markdown",
   "id": "295bcb74",
   "metadata": {},
   "source": [
    "# Accessing List Elements"
   ]
  },
  {
   "cell_type": "code",
   "execution_count": 3,
   "id": "2411e610",
   "metadata": {},
   "outputs": [
    {
     "name": "stdout",
     "output_type": "stream",
     "text": [
      "apple\n",
      "cherry\n",
      "['banana', 'cherry']\n"
     ]
    }
   ],
   "source": [
    "fruits = [\"apple\", \"banana\", \"cherry\"]\n",
    "\n",
    "#Accessing the first element\n",
    "print(fruits[0]) \n",
    "\n",
    "#Accessing the last element\n",
    "print(fruits[-1])\n",
    "\n",
    "#Accessing the range of elements (slicing)\n",
    "print(fruits[1:3])"
   ]
  },
  {
   "cell_type": "markdown",
   "id": "cad08976",
   "metadata": {},
   "source": [
    "# Modifying List"
   ]
  },
  {
   "cell_type": "code",
   "execution_count": 6,
   "id": "cf8a0597",
   "metadata": {},
   "outputs": [
    {
     "name": "stdout",
     "output_type": "stream",
     "text": [
      "['apple', 'blueberry', 'cherry']\n",
      "['apple', 'blueberry', 'cherry', 'date']\n",
      "['apple', 'blackberry', 'blueberry', 'cherry', 'date']\n",
      "['apple', 'blackberry', 'cherry', 'date']\n",
      "['blackberry', 'cherry', 'date']\n",
      "date\n",
      "['blackberry', 'cherry']\n"
     ]
    }
   ],
   "source": [
    "fruits = [\"apple\", \"banana\", \"cherry\"]\n",
    "\n",
    "# Changing an element\n",
    "fruits[1] = \"blueberry\"\n",
    "print(fruits)\n",
    "\n",
    "# Adding an element to the end\n",
    "fruits.append(\"date\")\n",
    "print(fruits)\n",
    "\n",
    "# Inserting an element at a specific position\n",
    "fruits.insert(1, \"blackberry\")\n",
    "print(fruits)\n",
    "\n",
    "# Removing an element by value\n",
    "fruits.remove(\"blueberry\")\n",
    "print(fruits)  \n",
    "\n",
    "# Removing an element by index\n",
    "del fruits[0]\n",
    "print(fruits)\n",
    "\n",
    "# Popping an Element (Removes and return the last element)\n",
    "last_fruit = fruits.pop()\n",
    "print(last_fruit)\n",
    "print(fruits)\n",
    "\n"
   ]
  },
  {
   "cell_type": "markdown",
   "id": "bc948d5a",
   "metadata": {},
   "source": [
    "# List Operations \n",
    "\n",
    "You can perform various operations on lists, including concatenation, repetition, and checking for membership."
   ]
  },
  {
   "cell_type": "code",
   "execution_count": 7,
   "id": "0a0681e8",
   "metadata": {},
   "outputs": [
    {
     "name": "stdout",
     "output_type": "stream",
     "text": [
      "[1, 2, 3, 4, 5, 6]\n",
      "[1, 2, 3, 1, 2, 3]\n",
      "True\n",
      "False\n"
     ]
    }
   ],
   "source": [
    "# Concatenation\n",
    "list1 = [1, 2, 3]\n",
    "list2 = [4, 5, 6]\n",
    "combined = list1 + list2\n",
    "print(combined)\n",
    "\n",
    "# Repetition\n",
    "repeated_list = [1, 2, 3] * 2\n",
    "print(repeated_list)\n",
    "\n",
    "# Membership\n",
    "print(2 in list1)\n",
    "print(4 in list1)"
   ]
  },
  {
   "cell_type": "markdown",
   "id": "ad72d8ef",
   "metadata": {},
   "source": [
    "# List Methods\n",
    "\n",
    "Python lists come with several built-in methods that make it easy to manipulate the list content.\n"
   ]
  },
  {
   "cell_type": "code",
   "execution_count": 9,
   "id": "ec7434ac",
   "metadata": {},
   "outputs": [
    {
     "name": "stdout",
     "output_type": "stream",
     "text": [
      "9\n",
      "1\n",
      "8\n",
      "[1, 2, 3, 4, 5, 6, 7, 8, 9]\n",
      "[9, 8, 7, 6, 5, 4, 3, 2, 1]\n",
      "[]\n"
     ]
    }
   ],
   "source": [
    "numbers = [1, 2, 3, 4, 5, 6, 7, 8, 9]\n",
    "\n",
    "# Getting the length of the list\n",
    "print(len(numbers))\n",
    "\n",
    "# Counting occurences of an element\n",
    "print(numbers.count(5))\n",
    "\n",
    "# Findind the index of an element\n",
    "print(numbers.index(9))\n",
    "\n",
    "# Sort the list\n",
    "numbers.sort()\n",
    "print(numbers)\n",
    "\n",
    "# Reversing the list\n",
    "numbers.reverse()\n",
    "print(numbers)\n",
    "\n",
    "# Clearing all elements from the list\n",
    "numbers.clear()\n",
    "print(numbers)"
   ]
  },
  {
   "cell_type": "markdown",
   "id": "5e8c39f9",
   "metadata": {},
   "source": [
    "# List Comprehensions\n",
    "\n",
    "List comprehensions provide a concise way to create lists. They are often used for creating lists from other iterables."
   ]
  },
  {
   "cell_type": "code",
   "execution_count": 8,
   "id": "815445c0",
   "metadata": {},
   "outputs": [
    {
     "name": "stdout",
     "output_type": "stream",
     "text": [
      "[0, 1, 4, 9, 16, 25, 36, 49, 64, 81]\n",
      "[0, 2, 4, 6, 8]\n"
     ]
    }
   ],
   "source": [
    "# Creating list of squares\n",
    "squares = [x ** 2 for x in range(10)]\n",
    "print(squares)\n",
    "\n",
    "# Filtering a list\n",
    "even_numbers = [x for x in range(10) if x % 2 == 0]\n",
    "print(even_numbers)"
   ]
  },
  {
   "cell_type": "markdown",
   "id": "01eb8710",
   "metadata": {},
   "source": [
    "# Nested Lists\n",
    "\n",
    "Lists can contain other lists, enabling the creation of multi-dimensional arrays."
   ]
  },
  {
   "cell_type": "code",
   "execution_count": 10,
   "id": "28bfb3a3",
   "metadata": {},
   "outputs": [
    {
     "name": "stdout",
     "output_type": "stream",
     "text": [
      "2\n"
     ]
    }
   ],
   "source": [
    "# Creating a 2D list\n",
    "matrix = [\n",
    "    [1, 2, 3],\n",
    "    [4, 5, 6],\n",
    "    [7, 8, 9]\n",
    "]\n",
    "\n",
    "# Accessing elements in a nested list\n",
    "print(matrix[0][1])  # Output: 2"
   ]
  },
  {
   "cell_type": "code",
   "execution_count": null,
   "id": "aba4959d",
   "metadata": {},
   "outputs": [],
   "source": []
  }
 ],
 "metadata": {
  "kernelspec": {
   "display_name": "Python 3 (ipykernel)",
   "language": "python",
   "name": "python3"
  },
  "language_info": {
   "codemirror_mode": {
    "name": "ipython",
    "version": 3
   },
   "file_extension": ".py",
   "mimetype": "text/x-python",
   "name": "python",
   "nbconvert_exporter": "python",
   "pygments_lexer": "ipython3",
   "version": "3.7.0"
  }
 },
 "nbformat": 4,
 "nbformat_minor": 5
}
