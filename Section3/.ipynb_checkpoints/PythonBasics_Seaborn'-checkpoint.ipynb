{
 "cells": [
  {
   "cell_type": "markdown",
   "id": "debe7acc",
   "metadata": {},
   "source": [
    "# Seaborn \n",
    "\n",
    "Seaborn is a powerful and easy-to-use data visualization libray built on top of Matplotlib in python. It provides a high-level interface for creating attractive and informative statistical graphics. Here is an overview of Seaborn, its features, and how to use it:\n",
    "\n",
    "## Overview\n",
    "- Library purpose: Seaborn is designed to make it easier to create complex and aesthetically pleasing visializations for statistical data. \n",
    "- Primary audience: It´s aimed at data scientists, analysts, and researchers who need to visualize data for analysis and reporting. \n"
   ]
  },
  {
   "cell_type": "markdown",
   "id": "e3e2af0a",
   "metadata": {},
   "source": [
    "## Key features\n",
    "\n",
    "1. Built-in themes and color palettes\n",
    "- Seaborn comes with several built-in themes to improve the aesthetics of the plots. You can easily switch between themes using the 'set_theme' function.\n",
    "- It also includes a variety of color palettes to make your plots visually appealing and informative. "
   ]
  },
  {
   "cell_type": "markdown",
   "id": "2d0b4b56",
   "metadata": {},
   "source": [
    "## Integration with Other Libraries\n",
    "\n",
    "Seaborn works seamlessly with other Python libraries such as:\n",
    "\n",
    "- Pandas: For data manipulation and analysis.\n",
    "- NumPy: For numerical operations.\n",
    "- Matplotlib: For additional customization and advanced plotting."
   ]
  },
  {
   "cell_type": "code",
   "execution_count": 3,
   "id": "89e55f06",
   "metadata": {},
   "outputs": [],
   "source": [
    "import seaborn as sns\n",
    "sns.set_theme(style = \"darkgrid\")"
   ]
  },
  {
   "cell_type": "markdown",
   "id": "a9a7b24c",
   "metadata": {},
   "source": [
    "## Statistical Plotting Functions\n",
    "\n",
    "- Relational plots: Visualize relationships between multiple variables. Examples include scatter plots('scatterplot', line plots('lineplot'), and the 'relplot' function for creating multiple plots. \n",
    "- Distribution plots: Visualize the distribution of a single variable. Examples include histograms('histplot'), kernel density estimates('kdepplot'), and the 'displot' function for combined plots.\n",
    "- Categorical plots: Visualize categorical data. Examples include bar plots('barplot'), box plot('boxplot'), and the 'catplot' function for creating multiple plots. "
   ]
  },
  {
   "cell_type": "code",
   "execution_count": 4,
   "id": "f6fe0f6f",
   "metadata": {},
   "outputs": [
    {
     "ename": "NameError",
     "evalue": "name 'tips' is not defined",
     "output_type": "error",
     "traceback": [
      "\u001b[1;31m---------------------------------------------------------------------------\u001b[0m",
      "\u001b[1;31mNameError\u001b[0m                                 Traceback (most recent call last)",
      "\u001b[1;32m~\\AppData\\Local\\Temp\\ipykernel_23652\\3968413173.py\u001b[0m in \u001b[0;36m<module>\u001b[1;34m\u001b[0m\n\u001b[0;32m      1\u001b[0m \u001b[1;31m# Relational plots\u001b[0m\u001b[1;33m\u001b[0m\u001b[1;33m\u001b[0m\u001b[0m\n\u001b[1;32m----> 2\u001b[1;33m \u001b[0msns\u001b[0m\u001b[1;33m.\u001b[0m\u001b[0mscatterplot\u001b[0m\u001b[1;33m(\u001b[0m\u001b[0mx\u001b[0m\u001b[1;33m=\u001b[0m\u001b[1;34m\"total_bill\"\u001b[0m\u001b[1;33m,\u001b[0m \u001b[0my\u001b[0m\u001b[1;33m=\u001b[0m\u001b[1;34m\"tip\"\u001b[0m\u001b[1;33m,\u001b[0m \u001b[0mdata\u001b[0m\u001b[1;33m=\u001b[0m\u001b[0mtips\u001b[0m\u001b[1;33m)\u001b[0m\u001b[1;33m\u001b[0m\u001b[0m\n\u001b[0m",
      "\u001b[1;31mNameError\u001b[0m: name 'tips' is not defined"
     ]
    }
   ],
   "source": [
    "# Relational plots\n",
    "sns.scatterplot(x=\"total_bill\", y=\"tip\", data=tips)"
   ]
  },
  {
   "cell_type": "code",
   "execution_count": 5,
   "id": "9f60d693",
   "metadata": {},
   "outputs": [
    {
     "ename": "NameError",
     "evalue": "name 'tips' is not defined",
     "output_type": "error",
     "traceback": [
      "\u001b[1;31m---------------------------------------------------------------------------\u001b[0m",
      "\u001b[1;31mNameError\u001b[0m                                 Traceback (most recent call last)",
      "\u001b[1;32m~\\AppData\\Local\\Temp\\ipykernel_23652\\63422728.py\u001b[0m in \u001b[0;36m<module>\u001b[1;34m\u001b[0m\n\u001b[0;32m      1\u001b[0m \u001b[1;31m# Distribution plots\u001b[0m\u001b[1;33m\u001b[0m\u001b[1;33m\u001b[0m\u001b[0m\n\u001b[1;32m----> 2\u001b[1;33m \u001b[0msns\u001b[0m\u001b[1;33m.\u001b[0m\u001b[0mhistplot\u001b[0m\u001b[1;33m(\u001b[0m\u001b[0mdata\u001b[0m\u001b[1;33m=\u001b[0m\u001b[0mtips\u001b[0m\u001b[1;33m,\u001b[0m \u001b[0mx\u001b[0m\u001b[1;33m=\u001b[0m\u001b[1;34m\"Total_bill\"\u001b[0m\u001b[1;33m,\u001b[0m \u001b[0mkde\u001b[0m\u001b[1;33m=\u001b[0m\u001b[1;32mTrue\u001b[0m\u001b[1;33m)\u001b[0m\u001b[1;33m\u001b[0m\u001b[0m\n\u001b[0m",
      "\u001b[1;31mNameError\u001b[0m: name 'tips' is not defined"
     ]
    }
   ],
   "source": [
    "# Distribution plots\n",
    "sns.histplot(data=tips, x=\"Total_bill\", kde=True)"
   ]
  },
  {
   "cell_type": "code",
   "execution_count": 6,
   "id": "f26d45ac",
   "metadata": {},
   "outputs": [
    {
     "ename": "NameError",
     "evalue": "name 'tips' is not defined",
     "output_type": "error",
     "traceback": [
      "\u001b[1;31m---------------------------------------------------------------------------\u001b[0m",
      "\u001b[1;31mNameError\u001b[0m                                 Traceback (most recent call last)",
      "\u001b[1;32m~\\AppData\\Local\\Temp\\ipykernel_23652\\3127782214.py\u001b[0m in \u001b[0;36m<module>\u001b[1;34m\u001b[0m\n\u001b[0;32m      1\u001b[0m \u001b[1;31m# Categorical plots\u001b[0m\u001b[1;33m\u001b[0m\u001b[1;33m\u001b[0m\u001b[0m\n\u001b[1;32m----> 2\u001b[1;33m \u001b[0msns\u001b[0m\u001b[1;33m.\u001b[0m\u001b[0mboxplot\u001b[0m\u001b[1;33m(\u001b[0m\u001b[0mx\u001b[0m\u001b[1;33m=\u001b[0m\u001b[1;34m\"day\"\u001b[0m\u001b[1;33m,\u001b[0m \u001b[0my\u001b[0m\u001b[1;33m=\u001b[0m\u001b[1;34m\"total_bill\"\u001b[0m\u001b[1;33m,\u001b[0m \u001b[0mdata\u001b[0m\u001b[1;33m=\u001b[0m\u001b[0mtips\u001b[0m\u001b[1;33m)\u001b[0m\u001b[1;33m\u001b[0m\u001b[0m\n\u001b[0m",
      "\u001b[1;31mNameError\u001b[0m: name 'tips' is not defined"
     ]
    }
   ],
   "source": [
    "# Categorical plots\n",
    "sns.boxplot(x=\"day\", y=\"total_bill\", data=tips)"
   ]
  },
  {
   "cell_type": "markdown",
   "id": "1f78f1dc",
   "metadata": {},
   "source": [
    "## Faceted plots\n",
    "\n",
    "- Seaborn makes it easy to create faceted plots, which are plots that are divided into subplots based on the values of one or more categorical variables."
   ]
  },
  {
   "cell_type": "code",
   "execution_count": null,
   "id": "8c9bf807",
   "metadata": {},
   "outputs": [],
   "source": [
    "sns.relplot(x=\"total_bill\", y=\"tip\", col=\"day\", data=tips)"
   ]
  },
  {
   "cell_type": "markdown",
   "id": "28ca698d",
   "metadata": {},
   "source": [
    "## Matrix plots\n",
    "\n",
    "- Visualize matrix data. Examples include hatmaps('heatmap') and cluster maps('clustermap')"
   ]
  },
  {
   "cell_type": "code",
   "execution_count": null,
   "id": "1750267d",
   "metadata": {},
   "outputs": [],
   "source": [
    "sns.heatmap(data=corr_matrix, annot=True, cmap=\"coolwarm\")"
   ]
  },
  {
   "cell_type": "markdown",
   "id": "5e094c53",
   "metadata": {},
   "source": [
    "## Regression plots\n",
    "\n",
    "- Visualize linear relationships. Examples include the'lmplot' and 'regplot' functions."
   ]
  },
  {
   "cell_type": "code",
   "execution_count": null,
   "id": "a18b64e9",
   "metadata": {},
   "outputs": [],
   "source": [
    "sns.lmplot(x=\"total_bill\", y=\"tip\", data=tips)"
   ]
  },
  {
   "cell_type": "markdown",
   "id": "4d59cb6b",
   "metadata": {},
   "source": [
    "## Pair plots\n",
    "\n",
    "- Visualize pairwise relationships in a dataset. The 'pairplot' function creates a grid of subplots for each pair of variables in the dataset."
   ]
  },
  {
   "cell_type": "code",
   "execution_count": null,
   "id": "ff297b92",
   "metadata": {},
   "outputs": [],
   "source": [
    "sns.pairplot(data=tips)"
   ]
  }
 ],
 "metadata": {
  "kernelspec": {
   "display_name": "Python 3 (ipykernel)",
   "language": "python",
   "name": "python3"
  },
  "language_info": {
   "codemirror_mode": {
    "name": "ipython",
    "version": 3
   },
   "file_extension": ".py",
   "mimetype": "text/x-python",
   "name": "python",
   "nbconvert_exporter": "python",
   "pygments_lexer": "ipython3",
   "version": "3.7.0"
  }
 },
 "nbformat": 4,
 "nbformat_minor": 5
}
