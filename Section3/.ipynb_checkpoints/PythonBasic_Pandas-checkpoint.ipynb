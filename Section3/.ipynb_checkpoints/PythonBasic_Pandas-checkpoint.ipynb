{
 "cells": [
  {
   "cell_type": "markdown",
   "id": "3d6dc471",
   "metadata": {},
   "source": [
    "# Introducing Pandas\n",
    "\n",
    "Pandas is a Python library that makes handling tabular data easier. Since we are doing data science - this is something we will use from time to time. \n",
    "\n",
    "It is one of three libraries you will encounter repeatedly in the field of data science:\n",
    "\n",
    "## Pandas \n",
    "Pandas is a powerful and flexible open-source data manipulation and analysis library for Python. It provides data structures like DataFrames and Series to handle and analyze data efficiently. It is especially useful for tasks involving data cleaning, transformation, and analysis.\n",
    "\n",
    "Key Features of Pandas\n",
    "- Data Structures: Provides two primary data structures - Series (one-dimensional) and DataFrame (two-dimensional).\n",
    "- Data Handling: Easy handling of missing data.\n",
    "- Data Alignment: Automatic and explicit data alignment.\n",
    "- Data Wrangling: Tools for merging, joining, reshaping, and pivoting data.\n",
    "- Time Series: Robust support for working with time-series data.\n",
    "- Data Aggregation: Group by functionality for data aggregation and transformations. \n"
   ]
  },
  {
   "cell_type": "code",
   "execution_count": 3,
   "id": "7914f0f6",
   "metadata": {},
   "outputs": [
    {
     "name": "stdout",
     "output_type": "stream",
     "text": [
      "      Name  Age         City\n",
      "0    Alice   25     New York\n",
      "1      Bob   30  Los Angeles\n",
      "2  Charlie   35      Chicago\n"
     ]
    }
   ],
   "source": [
    "# Creating a DataFrame\n",
    "import pandas as pd\n",
    "\n",
    "data = {\n",
    "    'Name': ['Alice', 'Bob', 'Charlie'],\n",
    "    'Age': [25, 30, 35],\n",
    "    'City': ['New York', 'Los Angeles', 'Chicago']\n",
    "}\n",
    "df = pd.DataFrame(data)\n",
    "print(df)"
   ]
  },
  {
   "cell_type": "code",
   "execution_count": null,
   "id": "36c27567",
   "metadata": {},
   "outputs": [],
   "source": [
    "# Reading data from CSV file\n",
    "df = pd.read_csv('data.csv')\n",
    "\n",
    "# Writing data to a CSV file\n",
    "df.to_csv('output.csv', index)"
   ]
  },
  {
   "cell_type": "code",
   "execution_count": null,
   "id": "63890574",
   "metadata": {},
   "outputs": [],
   "source": []
  }
 ],
 "metadata": {
  "kernelspec": {
   "display_name": "Python 3 (ipykernel)",
   "language": "python",
   "name": "python3"
  },
  "language_info": {
   "codemirror_mode": {
    "name": "ipython",
    "version": 3
   },
   "file_extension": ".py",
   "mimetype": "text/x-python",
   "name": "python",
   "nbconvert_exporter": "python",
   "pygments_lexer": "ipython3",
   "version": "3.7.0"
  }
 },
 "nbformat": 4,
 "nbformat_minor": 5
}
