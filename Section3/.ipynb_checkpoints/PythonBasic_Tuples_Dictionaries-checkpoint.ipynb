{
 "cells": [
  {
   "cell_type": "markdown",
   "id": "9653ca37",
   "metadata": {},
   "source": [
    "# Tuples\n",
    "\n",
    "A tuple is a built-in data structure in Python that allows you to store an ordered collection of items. Unlike lists, tuples are immutable, meaning that once they are created, their elements cannot be changed. Tuples can contain elements of different types, including integers, strings, other tuples, and more. Use (), instead of [].\n",
    "\n",
    "- Creation: Use parentheses () to create a tuple, or just commas for simple cases.\n",
    "- Access: Use indexing and slicing to access elements.\n",
    "- Immutability: Tuples cannot be modified after creation.\n",
    "- Operations: Support concatenation, repetition, and membership tests.\n",
    "- Methods: Provide basic methods like count() and index().\n",
    "- Packing and Unpacking: Easily pack and unpack multiple values.\n",
    "- Nested Tuples: Tuples can contain other tuples for complex structures.\n"
   ]
  },
  {
   "cell_type": "markdown",
   "id": "dbb6ee89",
   "metadata": {},
   "source": [
    "# Creating a tuple"
   ]
  },
  {
   "cell_type": "code",
   "execution_count": 10,
   "id": "6d7472ad",
   "metadata": {},
   "outputs": [],
   "source": [
    "# Creating a tuple of integers\n",
    "numbers = (1, 2, 3, 4, 5)\n",
    "\n",
    "# Creating a tuple of strings\n",
    "fruits = (\"apple\", \"banana\", \"cherry\")\n",
    "\n",
    "# Creating a mixed tuple\n",
    "mixed_tuple = (1, \"hello\", 3.14, True)\n",
    "\n",
    "# Creating a tuple without parentheses (optional)\n",
    "no_parentheses_tuple = 1, 2, 3\n",
    "\n",
    "# Creating an empty tuple\n",
    "empty_tuple = ()\n",
    "\n",
    "# Creating a tuple with a single element (note the trailing comma)\n",
    "single_element_tuple = (1,)"
   ]
  },
  {
   "cell_type": "markdown",
   "id": "2eb6dfa0",
   "metadata": {},
   "source": [
    "# Accessing Tuple Elements"
   ]
  },
  {
   "cell_type": "code",
   "execution_count": 11,
   "id": "0cac2f49",
   "metadata": {},
   "outputs": [
    {
     "name": "stdout",
     "output_type": "stream",
     "text": [
      "apple\n",
      "cherry\n",
      "('banana', 'cherry')\n"
     ]
    }
   ],
   "source": [
    "fruits = (\"apple\", \"banana\", \"cherry\")\n",
    "\n",
    "# Accessing the first element\n",
    "print(fruits[0])  # Output: apple\n",
    "\n",
    "# Accessing the last element\n",
    "print(fruits[-1])  # Output: cherry\n",
    "\n",
    "# Accessing a range of elements (slicing)\n",
    "print(fruits[1:3])  # Output: ('banana', 'cherry')"
   ]
  },
  {
   "cell_type": "markdown",
   "id": "1e1969a4",
   "metadata": {},
   "source": [
    "# Tuple Operations\n",
    "\n",
    "Tuples support various operations, similar to lists, but they cannot be modified."
   ]
  },
  {
   "cell_type": "code",
   "execution_count": 12,
   "id": "0e4f04c2",
   "metadata": {},
   "outputs": [
    {
     "name": "stdout",
     "output_type": "stream",
     "text": [
      "(1, 2, 3, 4, 5, 6)\n",
      "(1, 2, 3, 1, 2, 3)\n",
      "True\n",
      "False\n"
     ]
    }
   ],
   "source": [
    "# Concatenation\n",
    "tuple1 = (1, 2, 3)\n",
    "tuple2 = (4, 5, 6)\n",
    "combined = tuple1 + tuple2\n",
    "print(combined)  # Output: (1, 2, 3, 4, 5, 6)\n",
    "\n",
    "# Repetition\n",
    "repeated_tuple = (1, 2, 3) * 2\n",
    "print(repeated_tuple)  # Output: (1, 2, 3, 1, 2, 3)\n",
    "\n",
    "# Membership\n",
    "print(2 in tuple1)  # Output: True\n",
    "print(4 in tuple1)  # Output: False"
   ]
  },
  {
   "cell_type": "markdown",
   "id": "36bdb81f",
   "metadata": {},
   "source": [
    "# Tuple Methods\n",
    "\n",
    "Tuples have a few built-in methods, mainly for counting occurrences and finding the index of an element."
   ]
  },
  {
   "cell_type": "code",
   "execution_count": 13,
   "id": "ec6426a0",
   "metadata": {},
   "outputs": [
    {
     "name": "stdout",
     "output_type": "stream",
     "text": [
      "3\n",
      "3\n"
     ]
    }
   ],
   "source": [
    "numbers = (1, 2, 2, 3, 4, 2)\n",
    "\n",
    "# Counting occurrences of an element\n",
    "print(numbers.count(2))  # Output: 3\n",
    "\n",
    "# Finding the index of an element\n",
    "print(numbers.index(3))  # Output: 3"
   ]
  },
  {
   "cell_type": "markdown",
   "id": "2312e53a",
   "metadata": {},
   "source": [
    "# Tuple Packing and Unpacking\n",
    "\n",
    "Tuples are often used for packing multiple values into a single variable and then unpacking them."
   ]
  },
  {
   "cell_type": "code",
   "execution_count": 14,
   "id": "fbb13048",
   "metadata": {},
   "outputs": [
    {
     "name": "stdout",
     "output_type": "stream",
     "text": [
      "John\n",
      "25\n",
      "Engineer\n"
     ]
    }
   ],
   "source": [
    "# Packing values into a tuple\n",
    "person = (\"John\", 25, \"Engineer\")\n",
    "\n",
    "# Unpacking the tuple into variables\n",
    "name, age, profession = person\n",
    "print(name)        # Output: John\n",
    "print(age)         # Output: 25\n",
    "print(profession)  # Output: Engineer"
   ]
  },
  {
   "cell_type": "markdown",
   "id": "05bfd61a",
   "metadata": {},
   "source": [
    "# Nested Tuples\n",
    "\n",
    "Tuples can contain other tuples, enabling the creation of complex data structures."
   ]
  },
  {
   "cell_type": "code",
   "execution_count": 15,
   "id": "b222cdc6",
   "metadata": {},
   "outputs": [
    {
     "name": "stdout",
     "output_type": "stream",
     "text": [
      "(2, 3)\n",
      "6\n"
     ]
    }
   ],
   "source": [
    "# Creating a nested tuple\n",
    "nested_tuple = (1, (2, 3), (4, (5, 6)))\n",
    "\n",
    "# Accessing elements in a nested tuple\n",
    "print(nested_tuple[1])        # Output: (2, 3)\n",
    "print(nested_tuple[2][1][1])  # Output: 6"
   ]
  },
  {
   "cell_type": "markdown",
   "id": "9bdcf5ff",
   "metadata": {},
   "source": [
    "# Common Uses of Tuples"
   ]
  },
  {
   "cell_type": "code",
   "execution_count": 16,
   "id": "ebe06501",
   "metadata": {},
   "outputs": [
    {
     "name": "stdout",
     "output_type": "stream",
     "text": [
      "10 20\n",
      "New York\n"
     ]
    }
   ],
   "source": [
    "# Multiple Return Values: Functions can return multiple values using tuples.\n",
    "def get_coordinates():\n",
    "    return (10, 20)\n",
    "\n",
    "x, y = get_coordinates()\n",
    "print(x, y)  # Output: 10 20\n",
    "\n",
    "# Dictionary Keys: Tuples can be used as keys in dictionaries since they are immutable.\n",
    "location = {\n",
    "    (40.7128, -74.0060): \"New York\",\n",
    "    (34.0522, -118.2437): \"Los Angeles\"\n",
    "}\n",
    "print(location[(40.7128, -74.0060)])  # Output: New York"
   ]
  },
  {
   "cell_type": "markdown",
   "id": "73c9e8d2",
   "metadata": {},
   "source": [
    "# Dictionaries\n",
    "\n",
    "Dictionaries in Python are a built-in data structure that allows you to store an unordered collection of key-value pairs. Each key-value pair maps the key to its associated value, making dictionaries ideal for representing data that has a clear mapping, such as a telephone book, an address book, or any other data that associates unique keys with values. \n",
    "\n",
    "- Creation: Use curly braces {} with key-value pairs, or the dict() constructor.\n",
    "- Access: Use keys to access values.\n",
    "- Modification: Add, change, and remove key-value pairs.\n",
    "- Methods: Use built-in methods like .keys(), .values(), .items(), .get(), .pop(), and .clear().\n",
    "- Iteration: Iterate over keys, values, and key-value pairs.\n",
    "- Nesting: Dictionaries can contain other dictionaries for complex structures."
   ]
  },
  {
   "cell_type": "markdown",
   "id": "d2488652",
   "metadata": {},
   "source": [
    "## Creating Dictionaries\n",
    "\n",
    "You can create a dictionary by placing a comma-separated sequence of key-value pairs within curly braces {}. Keys must be unique and immutable (e.g., strings, numbers, tuples), while values can be of any type."
   ]
  },
  {
   "cell_type": "code",
   "execution_count": 2,
   "id": "90094089",
   "metadata": {},
   "outputs": [],
   "source": [
    "# Creating a dictionary with sting keys\n",
    "\n",
    "person = {\n",
    "    \"name\": \"alice\",\n",
    "    \"age\": 30,\n",
    "    \"city\": \"New York\"\n",
    "}\n",
    "\n",
    "# Creating a dictionary with mixed key types\n",
    "\n",
    "mixed_dict = {\n",
    "    1: \"one\",\n",
    "    \"two\": 2,\n",
    "    (3, 4): \"tuple\"\n",
    "}\n",
    "\n",
    "# Creating an empty dictionary\n",
    "empty_dict = {}\n"
   ]
  },
  {
   "cell_type": "markdown",
   "id": "0d994b91",
   "metadata": {},
   "source": [
    "## Accessing Values\n",
    "\n",
    "You can access the values in a dictionary by referring to their keys. "
   ]
  },
  {
   "cell_type": "code",
   "execution_count": 3,
   "id": "647622d0",
   "metadata": {},
   "outputs": [
    {
     "name": "stdout",
     "output_type": "stream",
     "text": [
      "alice\n",
      "30\n"
     ]
    }
   ],
   "source": [
    "person = {\n",
    "    \"name\": \"alice\",\n",
    "    \"age\": 30,\n",
    "    \"city\": \"New York\"\n",
    "}\n",
    "\n",
    "# Accessing values by keys\n",
    "print(person[\"name\"]) # Output: Alice\n",
    "print(person[\"age\"]) # Output:30"
   ]
  },
  {
   "cell_type": "markdown",
   "id": "a7ce5a1e",
   "metadata": {},
   "source": [
    "## Modifying Dictionaries\n",
    "\n",
    "Dictionaries are mutable, so you can add, change, or remove key-value pairs. "
   ]
  },
  {
   "cell_type": "code",
   "execution_count": 4,
   "id": "28943465",
   "metadata": {},
   "outputs": [
    {
     "name": "stdout",
     "output_type": "stream",
     "text": [
      "{'name': 'Alice', 'email': 'alice@example.com'}\n",
      "31\n"
     ]
    }
   ],
   "source": [
    "person = {\n",
    "    \"name\": \"Alice\",\n",
    "    \"age\": 30,\n",
    "    \"city\": \"New York\"\n",
    "}\n",
    "\n",
    "# Adding a new key-value pair\n",
    "person[\"email\"] = \"alice@example.com\"\n",
    "\n",
    "# Modifying an existing value\n",
    "person[\"age\"] = 31\n",
    "\n",
    "# Removing a key-value pair using del\n",
    "del person[\"city\"]\n",
    "\n",
    "# Removing a key-value pair using pop\n",
    "age = person.pop(\"age\")\n",
    "\n",
    "print(person)\n",
    "print(age)\n"
   ]
  },
  {
   "cell_type": "markdown",
   "id": "8346ef18",
   "metadata": {},
   "source": [
    "## Dictionary Methods"
   ]
  },
  {
   "cell_type": "code",
   "execution_count": 5,
   "id": "f11d5200",
   "metadata": {},
   "outputs": [
    {
     "name": "stdout",
     "output_type": "stream",
     "text": [
      "dict_keys(['name', 'age', 'city'])\n",
      "dict_values(['alice', 30, 'New York'])\n",
      "dict_items([('name', 'alice'), ('age', 30), ('city', 'New York')])\n",
      "True\n",
      "False\n",
      "No email provided\n",
      "{}\n"
     ]
    }
   ],
   "source": [
    "person = {\n",
    "    \"name\": \"alice\",\n",
    "    \"age\": 30,\n",
    "    \"city\": \"New York\"\n",
    "}\n",
    "\n",
    "# Getting all keys\n",
    "keys = person.keys()\n",
    "print(keys)\n",
    "\n",
    "# Getting all values\n",
    "values = person.values()\n",
    "print(values)\n",
    "\n",
    "# Getting all key-value pairs\n",
    "items = person.items()\n",
    "print(items)\n",
    "\n",
    "# Checking ig a key exists\n",
    "print(\"name\" in person)\n",
    "print(\"email\" in person)\n",
    "\n",
    "# Getting a value with default\n",
    "email = person.get(\"email\", \"No email provided\")\n",
    "print(email)\n",
    "\n",
    "# Removing all items \n",
    "person.clear()\n",
    "print(person)"
   ]
  },
  {
   "cell_type": "markdown",
   "id": "60c72750",
   "metadata": {},
   "source": [
    "## Iterating Over Dictionaries"
   ]
  },
  {
   "cell_type": "code",
   "execution_count": 6,
   "id": "fcf2842c",
   "metadata": {},
   "outputs": [
    {
     "name": "stdout",
     "output_type": "stream",
     "text": [
      "name\n",
      "age\n",
      "city\n",
      "Alice\n",
      "30\n",
      "New York\n",
      "name: Alice\n",
      "age: 30\n",
      "city: New York\n"
     ]
    }
   ],
   "source": [
    "person = {\n",
    "    \"name\": \"Alice\",\n",
    "    \"age\": 30,\n",
    "    \"city\": \"New York\"\n",
    "}\n",
    "\n",
    "# Iterating over keys\n",
    "for key in person:\n",
    "    print(key)\n",
    "    \n",
    "# Iterating over values\n",
    "for value in person.values():\n",
    "    print(value)\n",
    "    \n",
    "# Iterating over key-value pairs\n",
    "for key, value in person.items():\n",
    "    print(f\"{key}: {value}\")\n",
    "\n"
   ]
  },
  {
   "cell_type": "markdown",
   "id": "7ab4eea0",
   "metadata": {},
   "source": [
    "## Nested Dictionaries\n",
    "\n",
    "Dictionaries can contain other dictionaries, which allows you to create complex data structures."
   ]
  },
  {
   "cell_type": "code",
   "execution_count": 8,
   "id": "33e0ac2b",
   "metadata": {},
   "outputs": [
    {
     "name": "stdout",
     "output_type": "stream",
     "text": [
      "30\n",
      "Los Angeles\n"
     ]
    }
   ],
   "source": [
    "people = {\n",
    "    \"Alice\" :{\n",
    "        \"age\":30,\n",
    "        \"city\": \"New York\"\n",
    "    },\n",
    "    \"Bob\": {\n",
    "        \"age\": 25,\n",
    "        \"city\": \"Los Angeles\"\n",
    "    }\n",
    "}\n",
    "\n",
    "\n",
    "# Accessing nested dictionary items\n",
    "print(people[\"Alice\"][\"age\"])\n",
    "print(people[\"Bob\"][\"city\"])"
   ]
  },
  {
   "cell_type": "code",
   "execution_count": null,
   "id": "7c7819f3",
   "metadata": {},
   "outputs": [],
   "source": []
  }
 ],
 "metadata": {
  "kernelspec": {
   "display_name": "Python 3 (ipykernel)",
   "language": "python",
   "name": "python3"
  },
  "language_info": {
   "codemirror_mode": {
    "name": "ipython",
    "version": 3
   },
   "file_extension": ".py",
   "mimetype": "text/x-python",
   "name": "python",
   "nbconvert_exporter": "python",
   "pygments_lexer": "ipython3",
   "version": "3.7.0"
  }
 },
 "nbformat": 4,
 "nbformat_minor": 5
}
