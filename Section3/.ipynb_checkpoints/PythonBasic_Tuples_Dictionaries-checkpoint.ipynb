{
 "cells": [
  {
   "cell_type": "markdown",
   "id": "9653ca37",
   "metadata": {},
   "source": [
    "# Tuples\n",
    "\n",
    "A tuple is a built-in data structure in Python that allows you to store an ordered collection of items. Unlike lists, tuples are immutable, meaning that once they are created, their elements cannot be changed. Tuples can contain elements of different types, including integers, strings, other tuples, and more. Use (), instead of [].\n",
    "\n",
    "- Creation: Use parentheses () to create a tuple, or just commas for simple cases.\n",
    "- Access: Use indexing and slicing to access elements.\n",
    "- Immutability: Tuples cannot be modified after creation.\n",
    "- Operations: Support concatenation, repetition, and membership tests.\n",
    "- Methods: Provide basic methods like count() and index().\n",
    "- Packing and Unpacking: Easily pack and unpack multiple values.\n",
    "- Nested Tuples: Tuples can contain other tuples for complex structures.\n"
   ]
  },
  {
   "cell_type": "markdown",
   "id": "dbb6ee89",
   "metadata": {},
   "source": [
    "# Creating a tuple"
   ]
  },
  {
   "cell_type": "code",
   "execution_count": 10,
   "id": "6d7472ad",
   "metadata": {},
   "outputs": [],
   "source": [
    "# Creating a tuple of integers\n",
    "numbers = (1, 2, 3, 4, 5)\n",
    "\n",
    "# Creating a tuple of strings\n",
    "fruits = (\"apple\", \"banana\", \"cherry\")\n",
    "\n",
    "# Creating a mixed tuple\n",
    "mixed_tuple = (1, \"hello\", 3.14, True)\n",
    "\n",
    "# Creating a tuple without parentheses (optional)\n",
    "no_parentheses_tuple = 1, 2, 3\n",
    "\n",
    "# Creating an empty tuple\n",
    "empty_tuple = ()\n",
    "\n",
    "# Creating a tuple with a single element (note the trailing comma)\n",
    "single_element_tuple = (1,)"
   ]
  },
  {
   "cell_type": "markdown",
   "id": "2eb6dfa0",
   "metadata": {},
   "source": [
    "# Accessing Tuple Elements"
   ]
  },
  {
   "cell_type": "code",
   "execution_count": 11,
   "id": "0cac2f49",
   "metadata": {},
   "outputs": [
    {
     "name": "stdout",
     "output_type": "stream",
     "text": [
      "apple\n",
      "cherry\n",
      "('banana', 'cherry')\n"
     ]
    }
   ],
   "source": [
    "fruits = (\"apple\", \"banana\", \"cherry\")\n",
    "\n",
    "# Accessing the first element\n",
    "print(fruits[0])  # Output: apple\n",
    "\n",
    "# Accessing the last element\n",
    "print(fruits[-1])  # Output: cherry\n",
    "\n",
    "# Accessing a range of elements (slicing)\n",
    "print(fruits[1:3])  # Output: ('banana', 'cherry')"
   ]
  },
  {
   "cell_type": "markdown",
   "id": "1e1969a4",
   "metadata": {},
   "source": [
    "# Tuple Operations\n",
    "\n",
    "Tuples support various operations, similar to lists, but they cannot be modified."
   ]
  },
  {
   "cell_type": "code",
   "execution_count": 12,
   "id": "0e4f04c2",
   "metadata": {},
   "outputs": [
    {
     "name": "stdout",
     "output_type": "stream",
     "text": [
      "(1, 2, 3, 4, 5, 6)\n",
      "(1, 2, 3, 1, 2, 3)\n",
      "True\n",
      "False\n"
     ]
    }
   ],
   "source": [
    "# Concatenation\n",
    "tuple1 = (1, 2, 3)\n",
    "tuple2 = (4, 5, 6)\n",
    "combined = tuple1 + tuple2\n",
    "print(combined)  # Output: (1, 2, 3, 4, 5, 6)\n",
    "\n",
    "# Repetition\n",
    "repeated_tuple = (1, 2, 3) * 2\n",
    "print(repeated_tuple)  # Output: (1, 2, 3, 1, 2, 3)\n",
    "\n",
    "# Membership\n",
    "print(2 in tuple1)  # Output: True\n",
    "print(4 in tuple1)  # Output: False"
   ]
  },
  {
   "cell_type": "markdown",
   "id": "36bdb81f",
   "metadata": {},
   "source": [
    "# Tuple Methods\n",
    "\n",
    "Tuples have a few built-in methods, mainly for counting occurrences and finding the index of an element."
   ]
  },
  {
   "cell_type": "code",
   "execution_count": 13,
   "id": "ec6426a0",
   "metadata": {},
   "outputs": [
    {
     "name": "stdout",
     "output_type": "stream",
     "text": [
      "3\n",
      "3\n"
     ]
    }
   ],
   "source": [
    "numbers = (1, 2, 2, 3, 4, 2)\n",
    "\n",
    "# Counting occurrences of an element\n",
    "print(numbers.count(2))  # Output: 3\n",
    "\n",
    "# Finding the index of an element\n",
    "print(numbers.index(3))  # Output: 3"
   ]
  },
  {
   "cell_type": "markdown",
   "id": "2312e53a",
   "metadata": {},
   "source": [
    "# Tuple Packing and Unpacking\n",
    "\n",
    "Tuples are often used for packing multiple values into a single variable and then unpacking them."
   ]
  },
  {
   "cell_type": "code",
   "execution_count": 14,
   "id": "fbb13048",
   "metadata": {},
   "outputs": [
    {
     "name": "stdout",
     "output_type": "stream",
     "text": [
      "John\n",
      "25\n",
      "Engineer\n"
     ]
    }
   ],
   "source": [
    "# Packing values into a tuple\n",
    "person = (\"John\", 25, \"Engineer\")\n",
    "\n",
    "# Unpacking the tuple into variables\n",
    "name, age, profession = person\n",
    "print(name)        # Output: John\n",
    "print(age)         # Output: 25\n",
    "print(profession)  # Output: Engineer"
   ]
  },
  {
   "cell_type": "markdown",
   "id": "05bfd61a",
   "metadata": {},
   "source": [
    "# Nested Tuples\n",
    "\n",
    "Tuples can contain other tuples, enabling the creation of complex data structures."
   ]
  },
  {
   "cell_type": "code",
   "execution_count": 15,
   "id": "b222cdc6",
   "metadata": {},
   "outputs": [
    {
     "name": "stdout",
     "output_type": "stream",
     "text": [
      "(2, 3)\n",
      "6\n"
     ]
    }
   ],
   "source": [
    "# Creating a nested tuple\n",
    "nested_tuple = (1, (2, 3), (4, (5, 6)))\n",
    "\n",
    "# Accessing elements in a nested tuple\n",
    "print(nested_tuple[1])        # Output: (2, 3)\n",
    "print(nested_tuple[2][1][1])  # Output: 6"
   ]
  },
  {
   "cell_type": "markdown",
   "id": "9bdcf5ff",
   "metadata": {},
   "source": [
    "# Common Uses of Tuples"
   ]
  },
  {
   "cell_type": "code",
   "execution_count": 16,
   "id": "ebe06501",
   "metadata": {},
   "outputs": [
    {
     "name": "stdout",
     "output_type": "stream",
     "text": [
      "10 20\n",
      "New York\n"
     ]
    }
   ],
   "source": [
    "# Multiple Return Values: Functions can return multiple values using tuples.\n",
    "def get_coordinates():\n",
    "    return (10, 20)\n",
    "\n",
    "x, y = get_coordinates()\n",
    "print(x, y)  # Output: 10 20\n",
    "\n",
    "# Dictionary Keys: Tuples can be used as keys in dictionaries since they are immutable.\n",
    "location = {\n",
    "    (40.7128, -74.0060): \"New York\",\n",
    "    (34.0522, -118.2437): \"Los Angeles\"\n",
    "}\n",
    "print(location[(40.7128, -74.0060)])  # Output: New York"
   ]
  }
 ],
 "metadata": {
  "kernelspec": {
   "display_name": "Python 3 (ipykernel)",
   "language": "python",
   "name": "python3"
  },
  "language_info": {
   "codemirror_mode": {
    "name": "ipython",
    "version": 3
   },
   "file_extension": ".py",
   "mimetype": "text/x-python",
   "name": "python",
   "nbconvert_exporter": "python",
   "pygments_lexer": "ipython3",
   "version": "3.7.0"
  }
 },
 "nbformat": 4,
 "nbformat_minor": 5
}
