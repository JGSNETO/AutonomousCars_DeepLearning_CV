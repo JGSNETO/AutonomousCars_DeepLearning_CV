{
 "cells": [
  {
   "cell_type": "markdown",
   "id": "0d696803",
   "metadata": {},
   "source": [
    "# Python Basics\n",
    "\n",
    "## Whitespace\n",
    "\n",
    " - Whitespace in Python includes spaces, tabs, and newlines. It is an integral part of the syntax and can affect how code is interpreted and executed.\n",
    " - Python uses indentation to define the scope of loops, functions, classes, and conditionals. Unlike many other programming languages that use braces {} or keywords to define blocks of code, Python relies on indentation levels.\n",
    " - PEP 8 Recommendation: The Python Enhancement Proposal 8 (PEP 8) recommends using 4 spaces per indentation level.\n",
    " - Mixing Tabs and Spaces: Mixing tabs and spaces for indentation is not allowed and will result in an IndentationError.\n",
    " - Functions are defined with consistent 4-space indentation.\n",
    " - There are no extra spaces around parentheses or inside function calls.\n",
    " - Logical separation is maintained using blank lines."
   ]
  },
  {
   "cell_type": "code",
   "execution_count": 1,
   "id": "92ecf1cb",
   "metadata": {},
   "outputs": [
    {
     "name": "stdout",
     "output_type": "stream",
     "text": [
      "1 is odd\n",
      "2 is even\n",
      "3 is odd\n",
      "4 is even\n",
      "5 is odd\n",
      "6 is even\n",
      "All done.\n"
     ]
    }
   ],
   "source": [
    "listOfNumbers = [1, 2, 3, 4, 5, 6]\n",
    "\n",
    "for number in listOfNumbers:\n",
    "    if (number % 2 == 0):\n",
    "        print(number, \"is even\")\n",
    "    else:\n",
    "        print(number, \"is odd\")\n",
    "\n",
    "print(\"All done.\")"
   ]
  },
  {
   "cell_type": "markdown",
   "id": "e1feee0e",
   "metadata": {},
   "source": [
    "# Import modules\n",
    "\n",
    "In Python, modules are files containing Python code (functions, classes, variables) that you can import and use in your own programs. This allows you to organize your code into manageable sections and reuse code across different programs. \n"
   ]
  },
  {
   "cell_type": "markdown",
   "id": "04cc2876",
   "metadata": {},
   "source": [
    "## Basic Import\n",
    "\n",
    "To import a module, use the import statement followed by the module name."
   ]
  },
  {
   "cell_type": "code",
   "execution_count": null,
   "id": "9b03a45f",
   "metadata": {},
   "outputs": [],
   "source": [
    "import math"
   ]
  },
  {
   "cell_type": "markdown",
   "id": "e9a338b9",
   "metadata": {},
   "source": [
    "## Import Specific Functions or Variables\n",
    "\n",
    "You can import specific functions or variables from a module using the from ... import ... syntax."
   ]
  },
  {
   "cell_type": "code",
   "execution_count": null,
   "id": "6f16654f",
   "metadata": {},
   "outputs": [],
   "source": [
    "from math import sqrt"
   ]
  },
  {
   "cell_type": "markdown",
   "id": "8973629e",
   "metadata": {},
   "source": [
    "## import with an Alias\n",
    "\n",
    "To avoid name conflicts or for convenience, you can import a module with an alias using the as keyword."
   ]
  },
  {
   "cell_type": "code",
   "execution_count": null,
   "id": "cc883d45",
   "metadata": {},
   "outputs": [],
   "source": [
    "import numpy as np"
   ]
  },
  {
   "cell_type": "markdown",
   "id": "c9b591b2",
   "metadata": {},
   "source": [
    "## Importing All Functions and Variables\n",
    "\n",
    "To import everything from a module, use the from ... import * syntax. This is generally discouraged because it can lead to unclear code and potential conflicts with existing names."
   ]
  },
  {
   "cell_type": "code",
   "execution_count": null,
   "id": "3ca39c40",
   "metadata": {},
   "outputs": [],
   "source": [
    "from math import *\n",
    "\n",
    "print(sqrt(16))  # Output: 4.0\n",
    "print(pi)        # Output: 3.141592653589793"
   ]
  },
  {
   "cell_type": "markdown",
   "id": "c4641dae",
   "metadata": {},
   "source": [
    "## Importing from a Module in a Package\n",
    "\n",
    "Modules can be organized into packages, which are directories containing a special __init__.py file. You can import modules from a package using dot notation."
   ]
  },
  {
   "cell_type": "code",
   "execution_count": 3,
   "id": "747573e7",
   "metadata": {},
   "outputs": [
    {
     "ename": "ModuleNotFoundError",
     "evalue": "No module named 'mypackage'",
     "output_type": "error",
     "traceback": [
      "\u001b[1;31m---------------------------------------------------------------------------\u001b[0m",
      "\u001b[1;31mModuleNotFoundError\u001b[0m                       Traceback (most recent call last)",
      "\u001b[1;32m~\\AppData\\Local\\Temp\\ipykernel_16676\\2521717070.py\u001b[0m in \u001b[0;36m<module>\u001b[1;34m\u001b[0m\n\u001b[1;32m----> 1\u001b[1;33m \u001b[1;32mfrom\u001b[0m \u001b[0mmypackage\u001b[0m \u001b[1;32mimport\u001b[0m \u001b[0mmymodule\u001b[0m\u001b[1;33m\u001b[0m\u001b[0m\n\u001b[0m\u001b[0;32m      2\u001b[0m \u001b[1;33m\u001b[0m\u001b[0m\n\u001b[0;32m      3\u001b[0m \u001b[0mmymodule\u001b[0m\u001b[1;33m.\u001b[0m\u001b[0mmyfunction\u001b[0m\u001b[1;33m(\u001b[0m\u001b[1;33m)\u001b[0m\u001b[1;33m\u001b[0m\u001b[0m\n",
      "\u001b[1;31mModuleNotFoundError\u001b[0m: No module named 'mypackage'"
     ]
    }
   ],
   "source": [
    "#Do not run\n",
    "from mypackage import mymodule\n",
    "mymodule.myfunction()"
   ]
  },
  {
   "cell_type": "markdown",
   "id": "9cea2597",
   "metadata": {},
   "source": [
    "# Reloading a Module\n",
    "\n",
    "If you need to reload a module (e.g., if it has changed during runtime), use the importlib.reload() function from the importlib module."
   ]
  },
  {
   "cell_type": "code",
   "execution_count": null,
   "id": "c715b329",
   "metadata": {},
   "outputs": [],
   "source": [
    "import importlib\n",
    "import mymodule\n",
    "\n",
    "importlib.reload(mymodule)"
   ]
  }
 ],
 "metadata": {
  "kernelspec": {
   "display_name": "Python 3 (ipykernel)",
   "language": "python",
   "name": "python3"
  },
  "language_info": {
   "codemirror_mode": {
    "name": "ipython",
    "version": 3
   },
   "file_extension": ".py",
   "mimetype": "text/x-python",
   "name": "python",
   "nbconvert_exporter": "python",
   "pygments_lexer": "ipython3",
   "version": "3.7.0"
  }
 },
 "nbformat": 4,
 "nbformat_minor": 5
}
