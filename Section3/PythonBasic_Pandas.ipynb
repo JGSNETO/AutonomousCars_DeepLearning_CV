{
 "cells": [
  {
   "cell_type": "markdown",
   "id": "3d6dc471",
   "metadata": {},
   "source": [
    "# Introducing Pandas\n",
    "\n",
    "Pandas is a Python library that makes handling tabular data easier. Since we are doing data science - this is something we will use from time to time. \n",
    "\n",
    "It is one of three libraries you will encounter repeatedly in the field of data science:\n",
    "\n",
    "## Pandas \n",
    "Pandas is a powerful and flexible open-source data manipulation and analysis library for Python. It provides data structures like DataFrames and Series to handle and analyze data efficiently. It is especially useful for tasks involving data cleaning, transformation, and analysis.\n",
    "\n",
    "Key Features of Pandas\n",
    "- Data Structures: Provides two primary data structures - Series (one-dimensional) and DataFrame (two-dimensional).\n",
    "- Data Handling: Easy handling of missing data.\n",
    "- Data Alignment: Automatic and explicit data alignment.\n",
    "- Data Wrangling: Tools for merging, joining, reshaping, and pivoting data.\n",
    "- Time Series: Robust support for working with time-series data.\n",
    "- Data Aggregation: Group by functionality for data aggregation and transformations. \n"
   ]
  },
  {
   "cell_type": "code",
   "execution_count": 3,
   "id": "7914f0f6",
   "metadata": {},
   "outputs": [
    {
     "name": "stdout",
     "output_type": "stream",
     "text": [
      "      Name  Age         City\n",
      "0    Alice   25     New York\n",
      "1      Bob   30  Los Angeles\n",
      "2  Charlie   35      Chicago\n"
     ]
    }
   ],
   "source": [
    "# Creating a DataFrame\n",
    "import pandas as pd\n",
    "\n",
    "data = {\n",
    "    'Name': ['Alice', 'Bob', 'Charlie'],\n",
    "    'Age': [25, 30, 35],\n",
    "    'City': ['New York', 'Los Angeles', 'Chicago']\n",
    "}\n",
    "df = pd.DataFrame(data)\n",
    "print(df)"
   ]
  },
  {
   "cell_type": "code",
   "execution_count": null,
   "id": "36c27567",
   "metadata": {},
   "outputs": [],
   "source": [
    "# Reading data from CSV file\n",
    "df = pd.read_csv('data.csv')\n",
    "\n",
    "# Writing data to a CSV file\n",
    "df.to_csv('output.csv', index)"
   ]
  },
  {
   "cell_type": "code",
   "execution_count": 1,
   "id": "63890574",
   "metadata": {},
   "outputs": [
    {
     "ename": "NameError",
     "evalue": "name 'df' is not defined",
     "output_type": "error",
     "traceback": [
      "\u001b[1;31m---------------------------------------------------------------------------\u001b[0m",
      "\u001b[1;31mNameError\u001b[0m                                 Traceback (most recent call last)",
      "\u001b[1;32m~\\AppData\\Local\\Temp\\ipykernel_13532\\2075245476.py\u001b[0m in \u001b[0;36m<module>\u001b[1;34m\u001b[0m\n\u001b[0;32m      1\u001b[0m \u001b[1;31m# Selecting a column\u001b[0m\u001b[1;33m\u001b[0m\u001b[1;33m\u001b[0m\u001b[0m\n\u001b[1;32m----> 2\u001b[1;33m \u001b[0mages\u001b[0m \u001b[1;33m=\u001b[0m \u001b[0mdf\u001b[0m\u001b[1;33m[\u001b[0m\u001b[1;34m'Age'\u001b[0m\u001b[1;33m]\u001b[0m\u001b[1;33m\u001b[0m\u001b[0m\n\u001b[0m\u001b[0;32m      3\u001b[0m \u001b[1;33m\u001b[0m\u001b[0m\n\u001b[0;32m      4\u001b[0m \u001b[1;31m# Filtering rows based on a condition\u001b[0m\u001b[1;33m\u001b[0m\u001b[1;33m\u001b[0m\u001b[0m\n\u001b[0;32m      5\u001b[0m \u001b[0mfiltered_df\u001b[0m \u001b[1;33m=\u001b[0m \u001b[0mdf\u001b[0m\u001b[1;33m[\u001b[0m\u001b[0mdf\u001b[0m\u001b[1;33m[\u001b[0m\u001b[1;34m'Age'\u001b[0m\u001b[1;33m]\u001b[0m \u001b[1;33m>\u001b[0m \u001b[1;36m25\u001b[0m\u001b[1;33m]\u001b[0m\u001b[1;33m\u001b[0m\u001b[0m\n",
      "\u001b[1;31mNameError\u001b[0m: name 'df' is not defined"
     ]
    }
   ],
   "source": [
    "# Selecting a column\n",
    "ages = df['Age']\n",
    "\n",
    "# Filtering rows based on a condition\n",
    "filtered_df = df[df['Age'] > 25]\n",
    "\n",
    "# Filling missing values\n",
    "df.fillna(0, inplace = True)\n",
    "\n",
    "# Dropping rows with missing values\n",
    "df.dropna(inplace = True)\n",
    "\n",
    "# Group by and aggregation\n",
    "grouped = df.groupby('City').mean()\n",
    "print(grouped)"
   ]
  },
  {
   "cell_type": "markdown",
   "id": "47994e9a",
   "metadata": {},
   "source": [
    "# NumPy\n",
    "\n",
    "NumPy(Numerical Python) is a fundamental package for scientific computing in Python. It provides support for arrays, matrices, and wide range of mathematical functions to operate on these data structures. \n",
    "\n",
    "## Key Features of NumPy\n",
    "\n",
    "- N-dimenstional array: Provides an N-dimensional array object('ndarray').\n",
    "- Mathematical functions: contains a large collection of mathematical functions to operate on arrays.\n",
    "- Linear Algebra: Includes linear algebra, Fourier transform and random number capabilities.\n",
    "- Efficiency: Offers fast and efficient array operations\n",
    "\n",
    "\n",
    "\n",
    "\n"
   ]
  },
  {
   "cell_type": "code",
   "execution_count": 4,
   "id": "abf19b9e",
   "metadata": {},
   "outputs": [
    {
     "name": "stdout",
     "output_type": "stream",
     "text": [
      "[2 3 4]\n",
      "[[19 22]\n",
      " [43 50]]\n",
      "[0.0000000e+00 1.0000000e+00 1.2246468e-16]\n",
      "3.0\n",
      "1.4142135623730951\n",
      "[[1 2]\n",
      " [3 4]\n",
      " [5 6]]\n",
      "[1 2 3 4 5 6]\n",
      "[[0.64246849 0.48602337 0.66649481]\n",
      " [0.24451288 0.17058515 0.22393195]\n",
      " [0.02251887 0.27323625 0.11284583]]\n"
     ]
    }
   ],
   "source": [
    "# Creating arrays\n",
    "import numpy as np\n",
    "\n",
    "# Creating 1D array\n",
    "arr = np.array([1, 2, 3, 4, 5])\n",
    "\n",
    "# Creating a 2D array\n",
    "matrix = np.array([[1, 2, 3], [4, 5, 6]])\n",
    "\n",
    "# Array Operations\n",
    "\n",
    "# Elements-wise operations\n",
    "arr = np.array([1, 2, 3])\n",
    "print(arr + 1)\n",
    "\n",
    "# Matrix multiplication\n",
    "a = np.array([[1, 2], [3, 4]])\n",
    "b = np.array([[5, 6], [7, 8]])\n",
    "print(np.dot(a, b)) #Output: [[19, 20], [43 50]]\n",
    "\n",
    "# Mathematical Functions\n",
    "\n",
    "#Trigonometric Functions\n",
    "angles = np.array([0, np.pi/2, np.pi])\n",
    "print(np.sin(angles))\n",
    "\n",
    "# Statistical functions\n",
    "data = np.array([1, 2, 3, 4, 5])\n",
    "print(np.mean(data))\n",
    "print(np.std(data))\n",
    "\n",
    "# Array manipulation \n",
    "arr = np.array([[1, 2, 3], [4, 5, 6]])\n",
    "\n",
    "# Reshaping\n",
    "reshaped = arr.reshape((3, 2))\n",
    "print(reshaped)\n",
    "\n",
    "# Flattening\n",
    "flattened = arr.flatten()\n",
    "print(flattened)\n",
    "\n",
    "# Random number generation\n",
    "random_numbers = np.random.rand(3,3)\n",
    "print(random_numbers)"
   ]
  },
  {
   "cell_type": "markdown",
   "id": "d53c6f0d",
   "metadata": {},
   "source": [
    "# Combining Pandas and NumPy\n",
    "\n",
    "Pandas and NumPy often work together to handle and analyze data efficiently. For example, you can use NumPy arrays to perform mathematical operations on data within a pandas DataFrame"
   ]
  },
  {
   "cell_type": "code",
   "execution_count": 6,
   "id": "d266e295",
   "metadata": {},
   "outputs": [
    {
     "name": "stdout",
     "output_type": "stream",
     "text": [
      "   A  B         C\n",
      "0  1  4  4.123106\n",
      "1  2  5  5.385165\n",
      "2  3  6  6.708204\n"
     ]
    }
   ],
   "source": [
    "import pandas as pd\n",
    "import numpy as np\n",
    "\n",
    "\n",
    "# Creating a DataFrame\n",
    "data = {\n",
    "    'A': [1, 2, 3],\n",
    "    'B': [4, 5, 6]\n",
    "}\n",
    "\n",
    "df = pd.DataFrame(data)\n",
    "\n",
    "\n",
    "# Applying a NumPy function to a DataFrame Column\n",
    "df['C'] = np.sqrt(df['A']**2 + df['B']**2)\n",
    "print(df)"
   ]
  },
  {
   "cell_type": "code",
   "execution_count": null,
   "id": "86d6a7d6",
   "metadata": {},
   "outputs": [],
   "source": []
  }
 ],
 "metadata": {
  "kernelspec": {
   "display_name": "Python 3 (ipykernel)",
   "language": "python",
   "name": "python3"
  },
  "language_info": {
   "codemirror_mode": {
    "name": "ipython",
    "version": 3
   },
   "file_extension": ".py",
   "mimetype": "text/x-python",
   "name": "python",
   "nbconvert_exporter": "python",
   "pygments_lexer": "ipython3",
   "version": "3.7.0"
  }
 },
 "nbformat": 4,
 "nbformat_minor": 5
}
