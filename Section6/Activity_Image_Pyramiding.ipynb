{
 "cells": [
  {
   "cell_type": "code",
   "execution_count": 1,
   "id": "6e40eda9-a0f0-4a4c-96ed-082f0737b799",
   "metadata": {},
   "outputs": [],
   "source": [
    "import cv2\n",
    "import numpy as np\n",
    "import matplotlib.image as mpimg\n",
    "from matplotlib import pyplot as plt"
   ]
  },
  {
   "cell_type": "code",
   "execution_count": 2,
   "id": "0658c715-c3a2-4508-8ef6-121b44159577",
   "metadata": {},
   "outputs": [],
   "source": [
    "image_color = cv2.imread('Self_Driving.jpg')\n",
    "cv2.imshow('original Image', image_color)\n",
    "cv2.waitKey()\n",
    "cv2.destroyAllWindows()"
   ]
  },
  {
   "cell_type": "markdown",
   "id": "66290afa-8356-4524-b449-17bd547522ce",
   "metadata": {},
   "source": [
    "# Perform Pyramiding (Down)"
   ]
  },
  {
   "cell_type": "code",
   "execution_count": 3,
   "id": "9d5b5426-2338-427e-88dc-183a2996c184",
   "metadata": {},
   "outputs": [
    {
     "data": {
      "text/plain": [
       "(244, 370, 3)"
      ]
     },
     "execution_count": 3,
     "metadata": {},
     "output_type": "execute_result"
    }
   ],
   "source": [
    "scaled_down_1 = cv2.pyrDown(image_color)\n",
    "scaled_down_1.shape"
   ]
  },
  {
   "cell_type": "code",
   "execution_count": 4,
   "id": "ecfae7ec-a6a8-4ecb-8b69-04677267507c",
   "metadata": {},
   "outputs": [
    {
     "data": {
      "text/plain": [
       "(122, 185, 3)"
      ]
     },
     "execution_count": 4,
     "metadata": {},
     "output_type": "execute_result"
    }
   ],
   "source": [
    "scaled_down_2 = cv2.pyrDown(scaled_down_1)\n",
    "scaled_down_2.shape"
   ]
  },
  {
   "cell_type": "code",
   "execution_count": 5,
   "id": "1130b298-e925-461d-b9bd-09a1e1df369c",
   "metadata": {},
   "outputs": [
    {
     "data": {
      "text/plain": [
       "(61, 93, 3)"
      ]
     },
     "execution_count": 5,
     "metadata": {},
     "output_type": "execute_result"
    }
   ],
   "source": [
    "scaled_down_3 = cv2.pyrDown(scaled_down_2)\n",
    "scaled_down_3.shape"
   ]
  },
  {
   "cell_type": "code",
   "execution_count": 6,
   "id": "ed7c682f-6eb0-42fb-ab9a-2dcd3189a3a6",
   "metadata": {},
   "outputs": [],
   "source": [
    "cv2.imshow('Original', image_color)\n",
    "cv2.imshow('Smaller#1', scaled_down_1)\n",
    "cv2.imshow('Original', scaled_down_2)\n",
    "cv2.imshow('Original', scaled_down_3)\n",
    "\n",
    "cv2.waitKey()\n",
    "cv2.destroyAllWindows()"
   ]
  },
  {
   "cell_type": "code",
   "execution_count": 7,
   "id": "19d87d20-abb2-41e2-bbeb-0f2a482d6fc3",
   "metadata": {},
   "outputs": [
    {
     "data": {
      "text/plain": [
       "(974, 1480, 3)"
      ]
     },
     "execution_count": 7,
     "metadata": {},
     "output_type": "execute_result"
    }
   ],
   "source": [
    "scaled_up = cv2.pyrUp(image_color)\n",
    "scaled_up.shape"
   ]
  },
  {
   "cell_type": "code",
   "execution_count": null,
   "id": "3e9f6f69-8bd5-459b-99d9-d0fcf2642c97",
   "metadata": {},
   "outputs": [],
   "source": [
    "cv2.imshow('Larger', scaled_up)\n",
    "cv2.waitKey()\n",
    "cv2.destroyAllWindows()"
   ]
  }
 ],
 "metadata": {
  "kernelspec": {
   "display_name": "Python 3 (ipykernel)",
   "language": "python",
   "name": "python3"
  },
  "language_info": {
   "codemirror_mode": {
    "name": "ipython",
    "version": 3
   },
   "file_extension": ".py",
   "mimetype": "text/x-python",
   "name": "python",
   "nbconvert_exporter": "python",
   "pygments_lexer": "ipython3",
   "version": "3.8.0"
  }
 },
 "nbformat": 4,
 "nbformat_minor": 5
}
