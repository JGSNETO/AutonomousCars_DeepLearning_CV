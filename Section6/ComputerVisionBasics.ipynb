{
 "cells": [
  {
   "cell_type": "markdown",
   "id": "0ea2e7e0-c644-4096-9097-67c4c6f4cdad",
   "metadata": {},
   "source": [
    "# Image Features and their importance for object detection\n",
    "\n",
    "## Introduction\n",
    "\n",
    "- Image features are important areas an image that are unique to a specific image.\n",
    "- A feature is a piece of information in the image such as points, edges or objects that is different/unique.\n",
    "- A feature may be a color or a detected edge.\n",
    "- A good feature has to be repeatable: If feature can be detected in two or more different images of the same scene.\n",
    "\n",
    "## Why are features important ?\n",
    "\n",
    "- Image Features are critical in machine learning and self-driving cars because they can be used to analyze, describe and match images.\n",
    "- Features can be used to train a classifier to detet objects such as pedestrians and cars. "
   ]
  },
  {
   "cell_type": "code",
   "execution_count": null,
   "id": "23f8326b-dbe0-4fb0-a0a8-08cc3a531915",
   "metadata": {},
   "outputs": [],
   "source": []
  }
 ],
 "metadata": {
  "kernelspec": {
   "display_name": "Python 3 (ipykernel)",
   "language": "python",
   "name": "python3"
  },
  "language_info": {
   "codemirror_mode": {
    "name": "ipython",
    "version": 3
   },
   "file_extension": ".py",
   "mimetype": "text/x-python",
   "name": "python",
   "nbconvert_exporter": "python",
   "pygments_lexer": "ipython3",
   "version": "3.8.0"
  }
 },
 "nbformat": 4,
 "nbformat_minor": 5
}
