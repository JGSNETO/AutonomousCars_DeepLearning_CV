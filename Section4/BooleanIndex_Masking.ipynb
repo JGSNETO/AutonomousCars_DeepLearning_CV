{
 "cells": [
  {
   "cell_type": "markdown",
   "id": "6c3f604c",
   "metadata": {},
   "source": [
    "# Boolean indexing\n",
    "\n",
    "-  Boolean indexing is a powerful feature in NumPy that allows you to select and manipulate elements of an array based on conditions. \n",
    "\n",
    "## What is ?\n",
    "\n",
    "- Boolean indexing involves creating a boolean array (or mask) where each element is True or False, depending on whether a condition is met. This boolean array can then be used to index another array, selecting only the elements where the mask is True.\n",
    "\n",
    "## How it works\n",
    "\n",
    "- Creating a Boolean Mask: You apply a condition to a NumPy array. The result is a boolean array of the same shape, where each element is True if the condition is met and False otherwise.\n",
    "\n",
    "- Using the Boolean Mask: You use this boolean array to index the original array, selecting the elements that meet the condition."
   ]
  },
  {
   "cell_type": "code",
   "execution_count": 1,
   "id": "4b6bac1e",
   "metadata": {},
   "outputs": [
    {
     "name": "stdout",
     "output_type": "stream",
     "text": [
      "Mask result: [False False  True  True  True]\n",
      "[30 40 50]\n",
      "[10 20  0  0  0]\n"
     ]
    }
   ],
   "source": [
    "import numpy as np\n",
    "\n",
    "# Creates a sample array\n",
    "arr = np.array([10, 20, 30, 40, 50])\n",
    "\n",
    "# Create a boolean mask where elements are greater than 25\n",
    "mask = arr > 25\n",
    "print(f'Mask result: {mask}')\n",
    "\n",
    "# Use the boolean mask to index the original array into the new treated array\n",
    "filtered_arr = arr[mask]\n",
    "print(filtered_arr)\n",
    "\n",
    "# Modify elements that meet the conditions\n",
    "arr[arr > 25] = 0\n",
    "print(arr)"
   ]
  },
  {
   "cell_type": "code",
   "execution_count": null,
   "id": "ff9c0c06",
   "metadata": {},
   "outputs": [],
   "source": []
  }
 ],
 "metadata": {
  "kernelspec": {
   "display_name": "Python 3 (ipykernel)",
   "language": "python",
   "name": "python3"
  },
  "language_info": {
   "codemirror_mode": {
    "name": "ipython",
    "version": 3
   },
   "file_extension": ".py",
   "mimetype": "text/x-python",
   "name": "python",
   "nbconvert_exporter": "python",
   "pygments_lexer": "ipython3",
   "version": "3.7.0"
  }
 },
 "nbformat": 4,
 "nbformat_minor": 5
}
