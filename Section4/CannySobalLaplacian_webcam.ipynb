{
 "cells": [
  {
   "cell_type": "markdown",
   "id": "600e1dae",
   "metadata": {},
   "source": [
    "# Import Libraries "
   ]
  },
  {
   "cell_type": "code",
   "execution_count": 1,
   "id": "7caf13ea",
   "metadata": {},
   "outputs": [],
   "source": [
    "import matplotlib.image as mpimg\n",
    "import matplotlib.pyplot as plt\n",
    "import numpy as np\n",
    "import cv2"
   ]
  },
  {
   "cell_type": "markdown",
   "id": "5c5d3569",
   "metadata": {},
   "source": [
    "# Live Camera Canny"
   ]
  },
  {
   "cell_type": "code",
   "execution_count": 2,
   "id": "4ee4cf8d",
   "metadata": {},
   "outputs": [],
   "source": [
    "def LiveCamEdgeDetection_canny(image_color):\n",
    "    \n",
    "    threshold_1 = 30\n",
    "    threshold_2 = 80\n",
    "    image_gray = cv2.cvtColor(image_color, cv2.COLOR_BGR2GRAY)\n",
    "    canny = cv2.Canny(image_gray, threshold_2, threshold_2)\n",
    "    \n",
    "    return canny"
   ]
  },
  {
   "cell_type": "markdown",
   "id": "75ca1ba8",
   "metadata": {},
   "source": [
    "# Live Camera Laplacian"
   ]
  },
  {
   "cell_type": "code",
   "execution_count": 3,
   "id": "f39a2ce2",
   "metadata": {},
   "outputs": [],
   "source": [
    "def LiveCamEdgeDetection_Laplacian(image_color):\n",
    "    \n",
    "    image_gray = cv2.cvtColor(image_color, cv2.COLOR_BGR2GRAY)\n",
    "    laplacian = cv2.Laplacian(image_gray, cv2.CV_64F)\n",
    "    \n",
    "    return laplacian"
   ]
  },
  {
   "cell_type": "markdown",
   "id": "d58c677f",
   "metadata": {},
   "source": [
    "# Live Camera Sobel 'y'"
   ]
  },
  {
   "cell_type": "code",
   "execution_count": 4,
   "id": "8dc10721",
   "metadata": {},
   "outputs": [],
   "source": [
    "def LiveCamEdgeDetection_sobely(image_color):\n",
    "    \n",
    "    image_gray = cv2.cvtColor(image_color, cv2.COLOR_BGR2GRAY)\n",
    "    y_sobel = cv2.Sobel(image_gray, cv2.CF_64, 1, 0, ksize = 7)\n",
    "    \n",
    "    return y_sobel"
   ]
  },
  {
   "cell_type": "markdown",
   "id": "43b7981b",
   "metadata": {},
   "source": [
    "# Live Camera Sobel 'x'"
   ]
  },
  {
   "cell_type": "code",
   "execution_count": 5,
   "id": "0acb04ab",
   "metadata": {},
   "outputs": [],
   "source": [
    "def LiveCamEdgeDetection_sobelx(image_color):\n",
    "    \n",
    "    image_gray = cv2.cvtColor(image_color, cv2.COLOR_BGR2GRAY)\n",
    "    x_sobel = cv2.Sobel(image_gray, cv2.CF_64, 0, 1, ksize = 7)\n",
    "    \n",
    "    return x_sobel"
   ]
  },
  {
   "cell_type": "markdown",
   "id": "d7b6c1b6",
   "metadata": {},
   "source": [
    "# Main calling function to initialize webcam and apply edge detection"
   ]
  },
  {
   "cell_type": "code",
   "execution_count": 7,
   "id": "2a0944f6",
   "metadata": {},
   "outputs": [],
   "source": [
    "cap = cv2.VideoCapture(0)\n",
    "\n",
    "while True:\n",
    "    ret, frame = cap.read() # cap.read() returns a ret bool to indicate success.\n",
    "    cv2.imshow('Live Edge Detection Canny', LiveCamEdgeDetection_canny(frame))\n",
    "    cv2.imshow('Live Edge Detection Laplacian', LiveCamEdgeDetection_Laplacian(frame))\n",
    "    cv2.imshow('Webcam Video', frame)\n",
    "    \n",
    "    if cv2.waitKey(1) == 13:\n",
    "        break\n",
    "        \n",
    "cap.release() # camera release\n",
    "cv2.destroyAllWindows()"
   ]
  },
  {
   "cell_type": "code",
   "execution_count": null,
   "id": "e4ba05c3",
   "metadata": {},
   "outputs": [],
   "source": []
  }
 ],
 "metadata": {
  "kernelspec": {
   "display_name": "Python 3 (ipykernel)",
   "language": "python",
   "name": "python3"
  },
  "language_info": {
   "codemirror_mode": {
    "name": "ipython",
    "version": 3
   },
   "file_extension": ".py",
   "mimetype": "text/x-python",
   "name": "python",
   "nbconvert_exporter": "python",
   "pygments_lexer": "ipython3",
   "version": "3.7.0"
  }
 },
 "nbformat": 4,
 "nbformat_minor": 5
}
