{
 "cells": [
  {
   "cell_type": "markdown",
   "id": "22aadfa6",
   "metadata": {},
   "source": [
    "# Edge detection using Sobel, Laplacian and Canny"
   ]
  },
  {
   "cell_type": "code",
   "execution_count": 1,
   "id": "c9b5e721",
   "metadata": {},
   "outputs": [],
   "source": [
    "import matplotlib.image as mpimg\n",
    "import matplotlib.pyplot as plt\n",
    "import numpy as np\n",
    "import cv2"
   ]
  },
  {
   "cell_type": "code",
   "execution_count": 3,
   "id": "d7793465",
   "metadata": {},
   "outputs": [],
   "source": [
    "image = cv2.imread('Self_Driving_Car.jpg')\n",
    "cv2.imshow('Self Driving Car', image)\n",
    "\n",
    "cv2.waitKey(0)\n",
    "cv2.destroyAllWindows()"
   ]
  },
  {
   "cell_type": "code",
   "execution_count": 4,
   "id": "dbab23dc",
   "metadata": {},
   "outputs": [
    {
     "data": {
      "text/plain": [
       "(426, 640, 3)"
      ]
     },
     "execution_count": 4,
     "metadata": {},
     "output_type": "execute_result"
    }
   ],
   "source": [
    "image.shape"
   ]
  },
  {
   "cell_type": "code",
   "execution_count": 5,
   "id": "a8594c1a",
   "metadata": {},
   "outputs": [],
   "source": [
    "gray_image = cv2.cvtColor(image, cv2.COLOR_BGR2GRAY)\n",
    "cv2.imshow(\"Gray Image\", gray_image)\n",
    "cv2.waitKey(0)\n",
    "cv2.destroyAllWindows()"
   ]
  },
  {
   "cell_type": "markdown",
   "id": "f3a16d98",
   "metadata": {},
   "source": [
    "# Applying Sobel X and Y"
   ]
  },
  {
   "cell_type": "code",
   "execution_count": 13,
   "id": "e06ce60f",
   "metadata": {},
   "outputs": [],
   "source": [
    "\"\"\"\n",
    "Sobel(src, dst, ddepth, dx, dy)\n",
    "- src: An object of the class Mat representing the source image\n",
    "- dst: An object of the class Mat representing the destination image\n",
    "- ddepth: An integer variable representing the depth of the image (-1)\n",
    "- dx: An integer variable representing the x-derivative (0 or 1)\n",
    "- dy: An integer variable representing the y-derivative (0 or 1)\n",
    "\"\"\"\n",
    "x_sobel = cv2.Sobel(gray_image, cv2.CV_64F, 0, 1, ksize = 7) \n",
    "cv2.imshow('Sobel - X Direction', x_sobel)\n",
    "cv2.waitKey(0)\n",
    "cv2.destroyAllWindows()\n"
   ]
  },
  {
   "cell_type": "code",
   "execution_count": 12,
   "id": "9a323755",
   "metadata": {},
   "outputs": [],
   "source": [
    "y_sobel = cv2.Sobel(gray_image, cv2.CV_64F, 1, 0, ksize = 7)\n",
    "cv2.imshow('Sobel - Y direction', y_sobel)\n",
    "cv2.waitKey(0)\n",
    "cv2.destroyAllWindows()"
   ]
  },
  {
   "cell_type": "markdown",
   "id": "9f0391ad",
   "metadata": {},
   "source": [
    "# Applying Laplacian"
   ]
  },
  {
   "cell_type": "code",
   "execution_count": 17,
   "id": "7f0dfdac",
   "metadata": {},
   "outputs": [],
   "source": [
    "\"\"\"\n",
    "Laplacian(src, dst, ddepth)\n",
    "- src: A Mat object representing the source image for this operation\n",
    "- dst: A Mat object representing the destination for this operation\n",
    "- ddepth: A variable of the type integer representing depth of the destination image\n",
    "\"\"\"\n",
    "laplacian = cv2.Laplacian(gray_image, cv2.CV_64F)\n",
    "cv2.imshow('Laplacian', laplacian)\n",
    "cv2.waitKey(0)\n",
    "cv2.destroyAllWindows()"
   ]
  },
  {
   "cell_type": "markdown",
   "id": "add65115",
   "metadata": {},
   "source": [
    "# Applying Canny"
   ]
  },
  {
   "cell_type": "code",
   "execution_count": 19,
   "id": "911c90b5",
   "metadata": {},
   "outputs": [],
   "source": [
    "\"\"\"\n",
    "cv2.Canny(image, T_lower, T_upper, aperture_size, L2Gradient)\n",
    "- Image: Input image to which the canny filter will be applied.\n",
    "- Threshold 1: First threshold for the hysteresis procedure.\n",
    "- Threashold 2: Second threshold for the hysteresis procedure.\n",
    "- Aperture_size: Aperture size of the sobel filter.\n",
    "- L2Gradient: Boolean parameter used for more precision when calculating the edge gradient.\n",
    "\"\"\"\n",
    "threshold_1 = 120\n",
    "threshold_2 = 200\n",
    "\n",
    "canny = cv2.Canny(gray_image, threshold_1, threshold_2)\n",
    "\n",
    "cv2.imshow('Canny', canny)\n",
    "cv2.waitKey(0)\n",
    "cv2.destroyAllWindows()\n"
   ]
  },
  {
   "cell_type": "code",
   "execution_count": null,
   "id": "b376e6d2",
   "metadata": {},
   "outputs": [],
   "source": []
  }
 ],
 "metadata": {
  "kernelspec": {
   "display_name": "Python 3 (ipykernel)",
   "language": "python",
   "name": "python3"
  },
  "language_info": {
   "codemirror_mode": {
    "name": "ipython",
    "version": 3
   },
   "file_extension": ".py",
   "mimetype": "text/x-python",
   "name": "python",
   "nbconvert_exporter": "python",
   "pygments_lexer": "ipython3",
   "version": "3.7.0"
  }
 },
 "nbformat": 4,
 "nbformat_minor": 5
}
