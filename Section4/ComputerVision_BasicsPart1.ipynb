{
 "cells": [
  {
   "cell_type": "markdown",
   "id": "4000477b",
   "metadata": {},
   "source": [
    "# What is a computer vision and why is it important ?\n",
    "\n",
    "- Science that allows computers to understand images and video and determine what the computer \"sees\" or \"recognizes\". \n",
    "\n",
    "## Why is important ?\n",
    "\n",
    "- Self driving cars\n",
    "- Face recognition \n",
    "- Object detection\n",
    "- Handwriting recognition\n",
    "- License plate recognition\n",
    "\n",
    "## Why is so challenging\n",
    "\n",
    "- Viewpoint\n",
    "- Camera limitation\n",
    "- Lighting \n",
    "- Scaling\n",
    "- Object variation"
   ]
  },
  {
   "cell_type": "markdown",
   "id": "6fe0b359",
   "metadata": {},
   "source": [
    "# Humans vs. Computer Vision system\n",
    "\n",
    "For a car to convert to autonomous:\n",
    "\n",
    "1. Must provide 360 degrees coverage around the vehicle\n",
    "2. Must identify objects in 3D close and far from the vehicle\n",
    "3. Must meet all requirements in various lighting/weather conditions\n",
    "4. Process data in real-time\n",
    "\n",
    "## What sensors do we have?\n",
    "\n",
    "- Cameras: Provides detailed images but require machine-learning algorithms to interpret 2D images. \n",
    "- LIDAR(Light Detection and Ranging): Works like radar, but instead of sending radio waves it emits infrared laser beams to measure how long they take to come back. Created a 3D map of the world in real time.\n",
    "- Radars: Sends radio wabes to detect objects, reliable and cheaper than LIDAR systems.\n",
    "- GPS: Global positioning system provides information about current location of driverless car on the road using set of maps. \n",
    "\n",
    "## What is an image and how is it digitally stored ?\n",
    "\n",
    "- Waves are observed by the human eye and translated in the visual cortex into color. \n",
    "- When you look at a bana, the wavelengths of reflected light determine what color you see.\n",
    "- The light waves reflect off the banana and hit your eye has a wave lengths of 570 to 580 nanometers. \n",
    "\n",
    "### Grayscale Images\n",
    "\n",
    "- A grayscale image is a system of 256 tones with values ranging from 0-255.\n",
    "- '0' represents black and '255' represents white.\n",
    "- Numbers in-between represents greys between black and white.\n",
    "- Binary systems use digits '0' and '1' whwre '00000000' for black, to '11111111' for white (8-bit image).\n",
    "- Note: binary value of '11111111' is equal to decimal value of '255'.\n",
    "\n",
    "### Colored format\n",
    "\n",
    "- Each pixel coordinate(x, y) contains 3 values ranging from intensities of 0-255(8-bit).\n",
    "- RGB image is split into 3 matrices corresponding to red, green, na dblue channels. \n",
    "- Any other colour can be created by mixing several intensities of RGB. \n",
    "- Each RGB pixel has three sets of 8-bit binary numbers which in turn translate into 24 bits of computer information in total.\n",
    "- Assuming same number of pixels, RGB image is three times bigger in file size than greysclale one. "
   ]
  },
  {
   "cell_type": "code",
   "execution_count": null,
   "id": "2cfbc9ae",
   "metadata": {},
   "outputs": [],
   "source": []
  }
 ],
 "metadata": {
  "kernelspec": {
   "display_name": "Python 3 (ipykernel)",
   "language": "python",
   "name": "python3"
  },
  "language_info": {
   "codemirror_mode": {
    "name": "ipython",
    "version": 3
   },
   "file_extension": ".py",
   "mimetype": "text/x-python",
   "name": "python",
   "nbconvert_exporter": "python",
   "pygments_lexer": "ipython3",
   "version": "3.7.0"
  }
 },
 "nbformat": 4,
 "nbformat_minor": 5
}
