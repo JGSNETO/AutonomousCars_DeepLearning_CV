{
 "cells": [
  {
   "cell_type": "markdown",
   "id": "4000477b",
   "metadata": {},
   "source": [
    "# What is a computer vision and why is it important ?\n",
    "\n",
    "- Science that allows computers to understand images and video and determine what the computer \"sees\" or \"recognizes\". \n",
    "\n",
    "## Why is important ?\n",
    "\n",
    "- Self driving cars\n",
    "- Face recognition \n",
    "- Object detection\n",
    "- Handwriting recognition\n",
    "- License plate recognition\n",
    "\n",
    "## Why is so challenging\n",
    "\n",
    "- Viewpoint\n",
    "- Camera limitation\n",
    "- Lighting \n",
    "- Scaling\n",
    "- Object variation"
   ]
  },
  {
   "cell_type": "code",
   "execution_count": null,
   "id": "62abcbce",
   "metadata": {},
   "outputs": [],
   "source": []
  }
 ],
 "metadata": {
  "kernelspec": {
   "display_name": "Python 3 (ipykernel)",
   "language": "python",
   "name": "python3"
  },
  "language_info": {
   "codemirror_mode": {
    "name": "ipython",
    "version": 3
   },
   "file_extension": ".py",
   "mimetype": "text/x-python",
   "name": "python",
   "nbconvert_exporter": "python",
   "pygments_lexer": "ipython3",
   "version": "3.7.0"
  }
 },
 "nbformat": 4,
 "nbformat_minor": 5
}
