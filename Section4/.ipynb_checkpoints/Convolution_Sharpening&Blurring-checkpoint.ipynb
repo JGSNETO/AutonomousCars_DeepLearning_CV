{
 "cells": [
  {
   "cell_type": "markdown",
   "id": "e5c5b177",
   "metadata": {},
   "source": [
    "# Code for image manipulation"
   ]
  },
  {
   "cell_type": "code",
   "execution_count": 2,
   "id": "d9f6e492",
   "metadata": {},
   "outputs": [],
   "source": [
    "import matplotlib.image as mpimg\n",
    "import matplotlib.pyplot as plt\n",
    "import numpy as np\n",
    "import cv2\n",
    "\n",
    "image = cv2.imread('Self_Driving_Car.jpg')\n",
    "cv2.imshow('Self_Driving_Car', image)\n",
    "\n",
    "cv2.waitKey()\n",
    "cv2.destroyAllWindows()"
   ]
  },
  {
   "cell_type": "code",
   "execution_count": 3,
   "id": "9ec1cb75",
   "metadata": {},
   "outputs": [
    {
     "data": {
      "text/plain": [
       "(426, 640, 3)"
      ]
     },
     "execution_count": 3,
     "metadata": {},
     "output_type": "execute_result"
    }
   ],
   "source": [
    "image.shape"
   ]
  },
  {
   "cell_type": "code",
   "execution_count": 5,
   "id": "96e0a2b8",
   "metadata": {},
   "outputs": [],
   "source": [
    "gray_image = cv2.cvtColor(image, cv2.COLOR_BGR2GRAY)\n",
    "cv2.imshow('Self_Driving_Car', gray_image)\n",
    "cv2.waitKey()\n",
    "cv2.destroyAllWindows()"
   ]
  },
  {
   "cell_type": "code",
   "execution_count": 6,
   "id": "8374c6f4",
   "metadata": {},
   "outputs": [],
   "source": [
    "# Apply sharpening kernel\n",
    "\n",
    "sharp_kernel = np.array([[0, -1, 0],\n",
    "                       [-1, 5, -1],\n",
    "                       [0, -1, 0]])\n",
    "\n",
    "sharpened_image = cv2.filter2D(gray_image, -1, sharp_kernel) # ddepth: It is the desirable depth of destination image. Value -1 represents that the resulting image will have same depth as the source image.ddepth: It is the desirable depth of destination image. Value -1 represents that the resulting image will have same depth as the source image."
   ]
  },
  {
   "cell_type": "code",
   "execution_count": 7,
   "id": "60ec030a",
   "metadata": {},
   "outputs": [],
   "source": [
    "cv2.imshow('Sharpened Image', sharpened_image)\n",
    "\n",
    "cv2.waitKey(0)\n",
    "cv2.destroyAllWindows()"
   ]
  },
  {
   "cell_type": "code",
   "execution_count": 9,
   "id": "0f29b35d",
   "metadata": {},
   "outputs": [
    {
     "data": {
      "text/plain": [
       "array([[1., 1., 1.],\n",
       "       [1., 1., 1.],\n",
       "       [1., 1., 1.]])"
      ]
     },
     "execution_count": 9,
     "metadata": {},
     "output_type": "execute_result"
    }
   ],
   "source": [
    "# Bluring the kernel\n",
    "\n",
    "blurr_kernel = np.ones((3,3)) # Not-normalized\n",
    "blurr_kernel"
   ]
  },
  {
   "cell_type": "code",
   "execution_count": 10,
   "id": "6aff3825",
   "metadata": {},
   "outputs": [],
   "source": [
    "blurred_image = cv2.filter2D(gray_image, -1, blurr_kernel)"
   ]
  },
  {
   "cell_type": "code",
   "execution_count": 11,
   "id": "784c9549",
   "metadata": {},
   "outputs": [],
   "source": [
    "cv2.imshow('Blurred image', blurred_image)\n",
    "\n",
    "cv2.waitKey(0)\n",
    "cv2.destroyAllWindows()"
   ]
  },
  {
   "cell_type": "code",
   "execution_count": 12,
   "id": "c96b82e7",
   "metadata": {},
   "outputs": [
    {
     "data": {
      "text/plain": [
       "array([[0.11111111, 0.11111111, 0.11111111],\n",
       "       [0.11111111, 0.11111111, 0.11111111],\n",
       "       [0.11111111, 0.11111111, 0.11111111]])"
      ]
     },
     "execution_count": 12,
     "metadata": {},
     "output_type": "execute_result"
    }
   ],
   "source": [
    "# Blurr with normalized kernel \n",
    "\n",
    "blurr_kernel = np.ones((3,3)) * 1/9\n",
    "blurr_kernel"
   ]
  },
  {
   "cell_type": "code",
   "execution_count": 13,
   "id": "9d8d3a89",
   "metadata": {},
   "outputs": [],
   "source": [
    "blurred_image = cv2.filter2D(gray_image, -1, blurr_kernel)\n",
    "cv2.imshow('Blurred Image', blurred_image)\n",
    "\n",
    "cv2.waitKey(0)\n",
    "cv2.destroyAllWindows()"
   ]
  },
  {
   "cell_type": "code",
   "execution_count": null,
   "id": "41208b85",
   "metadata": {},
   "outputs": [],
   "source": []
  }
 ],
 "metadata": {
  "kernelspec": {
   "display_name": "Python 3 (ipykernel)",
   "language": "python",
   "name": "python3"
  },
  "language_info": {
   "codemirror_mode": {
    "name": "ipython",
    "version": 3
   },
   "file_extension": ".py",
   "mimetype": "text/x-python",
   "name": "python",
   "nbconvert_exporter": "python",
   "pygments_lexer": "ipython3",
   "version": "3.7.0"
  }
 },
 "nbformat": 4,
 "nbformat_minor": 5
}
